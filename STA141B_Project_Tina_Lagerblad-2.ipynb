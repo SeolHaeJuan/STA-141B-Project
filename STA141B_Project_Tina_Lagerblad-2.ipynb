{
 "cells": [
  {
   "cell_type": "code",
   "execution_count": 225,
   "id": "e1fcbefb",
   "metadata": {},
   "outputs": [
    {
     "name": "stdout",
     "output_type": "stream",
     "text": [
      "worksheet name : Broad Disc Select Label\n",
      "worksheet name : Campus Broad\n",
      "worksheet name : Major Table\n",
      "worksheet name : Yield and Admit\n"
     ]
    }
   ],
   "source": [
    "from tableauscraper import TableauScraper as TS\n",
    "\n",
    "url = \"https://visualizedata.ucop.edu/t/Public/views/TransferbyCCM/Bymajorname\"\n",
    "\n",
    "ts = TS()\n",
    "ts.loads(url)\n",
    "workbook = ts.getWorkbook()\n",
    "\n",
    "for t in workbook.worksheets:\n",
    "    # Show worksheet name\n",
    "    print(f\"worksheet name : {t.name}\") "
   ]
  },
  {
   "cell_type": "code",
   "execution_count": 226,
   "id": "b60ae897",
   "metadata": {},
   "outputs": [
    {
     "name": "stdout",
     "output_type": "stream",
     "text": [
      "name : Broad Disc Select Label\n",
      "[]\n",
      "name : Campus Broad\n",
      "[]\n",
      "name : Major Table\n",
      "[{'column': 'Campus', 'ordinal': 0, 'values': ['UCB', 'UCD', 'UCI', 'UCLA', 'UCM', 'UCR', 'UCSB', 'UCSC', 'UCSD'], 'globalFieldName': '[federated.1xtee380yrajk410jnsfd1fsy47h].[none:CMP_LOC_LOC1_SHRT_DESC:nk]', 'selection': ['UCB'], 'selectionAlt': [{'fn': '[federated.1xtee380yrajk410jnsfd1fsy47h].[none:CMP_LOC_LOC1_SHRT_DESC:nk]', 'columnFullNames': ['[Campus]'], 'domainTables': [{'isSelected': True, 'label': 'UCB'}]}]}, {'column': 'T Acad Yr', 'ordinal': 0, 'values': [2012, 2013, 2014, 2015, 2016, 2017, 2018, 2019, 2020, 2021], 'globalFieldName': '[federated.1xtee380yrajk410jnsfd1fsy47h].[none:T_ACAD_YR:ok]', 'selection': [2021], 'selectionAlt': [{'fn': '[federated.1xtee380yrajk410jnsfd1fsy47h].[none:T_ACAD_YR:ok]', 'columnFullNames': ['[T Acad Yr]'], 'domainTables': [{'label': '2012'}]}]}]\n",
      "Campus\n",
      "T Acad Yr\n",
      "name : Yield and Admit\n",
      "[]\n"
     ]
    }
   ],
   "source": [
    "# Find filter values\n",
    "filters = {}\n",
    "for t in workbook.worksheets:\n",
    "    # Show worksheet name\n",
    "    print(f\"name : {t.name}\") \n",
    "    # Show filters\n",
    "    print(t.getFilters()) \n",
    "    # Save filter settings for later use\n",
    "    for f in t.getFilters():\n",
    "        print(f['column'])\n",
    "        filters[f['column']] = f"
   ]
  },
  {
   "cell_type": "code",
   "execution_count": 227,
   "id": "33cd7c94",
   "metadata": {},
   "outputs": [
    {
     "data": {
      "text/plain": [
       "['UCB', 'UCD', 'UCI', 'UCLA', 'UCM', 'UCR', 'UCSB', 'UCSC', 'UCSD']"
      ]
     },
     "execution_count": 227,
     "metadata": {},
     "output_type": "execute_result"
    }
   ],
   "source": [
    "# Get the values for the Campus filter\n",
    "values = filters['Campus']['values']\n",
    "values"
   ]
  },
  {
   "cell_type": "code",
   "execution_count": 228,
   "id": "a24b6d0a",
   "metadata": {},
   "outputs": [
    {
     "name": "stdout",
     "output_type": "stream",
     "text": [
      "UCB\n",
      "UCD\n",
      "UCI\n",
      "UCLA\n",
      "UCM\n",
      "UCR\n",
      "UCSB\n",
      "UCSC\n",
      "UCSD\n"
     ]
    }
   ],
   "source": [
    "dataYA={}\n",
    "dataMT={}\n",
    "dataCB={}\n",
    "dataBDSL={}\n",
    "\n",
    "# For each campus, create dataframes for each worksheet\n",
    "for c in values:\n",
    "    ws = ts.getWorksheet(\"Major Table\")\n",
    "    ucWB = ws.setFilter('Campus',c)\n",
    "    UC = ucWB.getWorksheet('Yield and Admit')\n",
    "    dataYA[c] = UC.data\n",
    "    UC = ucWB.getWorksheet('Broad Disc Select Label')\n",
    "    dataBDSL[c] = UC.data\n",
    "    UC = ucWB.getWorksheet('Major Table')\n",
    "    dataMT[c] = UC.data\n",
    "    dataMT[c]['University'] = c\n",
    "    UC = ucWB.getWorksheet('Campus Broad')\n",
    "    dataCB[c] = UC.data\n",
    "    print(c)"
   ]
  },
  {
   "cell_type": "code",
   "execution_count": 229,
   "id": "aed369a8",
   "metadata": {
    "scrolled": true
   },
   "outputs": [],
   "source": [
    "from collections import Counter\n",
    "\n",
    "# Count the number of occurances of each major\n",
    "dataMT.keys()\n",
    "counter = Counter()\n",
    "for i in dataMT.keys():\n",
    "    counter.update(dataMT[i]['Major name-value'].tolist())"
   ]
  },
  {
   "cell_type": "code",
   "execution_count": 230,
   "id": "0d23454e",
   "metadata": {},
   "outputs": [
    {
     "data": {
      "text/plain": [
       "['UCLA', 'UCB', 'UCI', 'UCSB', 'UCD', 'UCSD', 'UCSC', 'UCM', 'UCR']"
      ]
     },
     "execution_count": 230,
     "metadata": {},
     "output_type": "execute_result"
    }
   ],
   "source": [
    "values_rate = []\n",
    "# Find each university's admit rate\n",
    "for c in values:\n",
    "    values_rate.append((c, dataYA[c][dataYA[c]['Measure Names-alias'].isin(['Admit rate'])].iat[0,2]))\n",
    "\n",
    "# Sort universities by admit rate\n",
    "values_rate.sort(key=lambda x:x[1])\n",
    "values_rate = [x[0] for x in values_rate]\n",
    "values_rate"
   ]
  },
  {
   "cell_type": "code",
   "execution_count": 231,
   "id": "c217bbf1",
   "metadata": {},
   "outputs": [],
   "source": [
    "import pandas as pd\n",
    "\n",
    "def create_majors_df(num_colleges):\n",
    "    \"\"\" \n",
    "    Create a cleaned up data set with majors that \n",
    "    exist in more than num_colleges universities.\n",
    "    \"\"\"\n",
    "    \n",
    "    # Find majors that occur at more than requested colleges\n",
    "    majors = [t[0] for t in counter.items() if t[1]>num_colleges]\n",
    "    \n",
    "    # Concatenate data frames from all universities\n",
    "    df = dataMT[values_rate[0]].copy()\n",
    "\n",
    "    for u in values_rate[1:]:\n",
    "        df = pd.concat([df, dataMT[u]], axis=0)\n",
    "\n",
    "    # Drop duplicated columns\n",
    "    df = df[df['Major name-value'].isin(majors)]\n",
    "    cols = [m for m in list(df.columns) if 'alias' in m]\n",
    "    df = df.drop(columns=cols)\n",
    "\n",
    "    # Clean up column names\n",
    "    df = df.rename(\n",
    "        columns=lambda x: x.replace('SUM(','')\n",
    "        .replace('AGG(','')\n",
    "        .replace(')','')\n",
    "        .replace('-value',''))\n",
    "    return df"
   ]
  },
  {
   "cell_type": "code",
   "execution_count": 246,
   "id": "aa58ea28",
   "metadata": {
    "scrolled": true
   },
   "outputs": [
    {
     "data": {
      "text/html": [
       "<div>\n",
       "<style scoped>\n",
       "    .dataframe tbody tr th:only-of-type {\n",
       "        vertical-align: middle;\n",
       "    }\n",
       "\n",
       "    .dataframe tbody tr th {\n",
       "        vertical-align: top;\n",
       "    }\n",
       "\n",
       "    .dataframe thead th {\n",
       "        text-align: right;\n",
       "    }\n",
       "</style>\n",
       "<table border=\"1\" class=\"dataframe\">\n",
       "  <thead>\n",
       "    <tr style=\"text-align: right;\">\n",
       "      <th>Major name</th>\n",
       "      <th>Anthropology</th>\n",
       "      <th>Chemistry</th>\n",
       "      <th>Computer science</th>\n",
       "      <th>Economics</th>\n",
       "      <th>History</th>\n",
       "      <th>Philosophy</th>\n",
       "      <th>Physics</th>\n",
       "      <th>Sociology</th>\n",
       "    </tr>\n",
       "    <tr>\n",
       "      <th>University</th>\n",
       "      <th></th>\n",
       "      <th></th>\n",
       "      <th></th>\n",
       "      <th></th>\n",
       "      <th></th>\n",
       "      <th></th>\n",
       "      <th></th>\n",
       "      <th></th>\n",
       "    </tr>\n",
       "  </thead>\n",
       "  <tbody>\n",
       "    <tr>\n",
       "      <th>UCLA</th>\n",
       "      <td>0.366359</td>\n",
       "      <td>0.230769</td>\n",
       "      <td>0.023535</td>\n",
       "      <td>NaN</td>\n",
       "      <td>NaN</td>\n",
       "      <td>0.406593</td>\n",
       "      <td>0.367021</td>\n",
       "      <td>NaN</td>\n",
       "    </tr>\n",
       "    <tr>\n",
       "      <th>UCB</th>\n",
       "      <td>0.145695</td>\n",
       "      <td>0.308271</td>\n",
       "      <td>0.039669</td>\n",
       "      <td>0.221339</td>\n",
       "      <td>0.188623</td>\n",
       "      <td>0.510448</td>\n",
       "      <td>0.398907</td>\n",
       "      <td>0.177609</td>\n",
       "    </tr>\n",
       "    <tr>\n",
       "      <th>UCI</th>\n",
       "      <td>0.417808</td>\n",
       "      <td>0.408676</td>\n",
       "      <td>0.111836</td>\n",
       "      <td>0.325048</td>\n",
       "      <td>0.685629</td>\n",
       "      <td>0.713725</td>\n",
       "      <td>0.351724</td>\n",
       "      <td>0.428203</td>\n",
       "    </tr>\n",
       "    <tr>\n",
       "      <th>UCSB</th>\n",
       "      <td>0.506329</td>\n",
       "      <td>0.561247</td>\n",
       "      <td>0.096636</td>\n",
       "      <td>0.578329</td>\n",
       "      <td>0.515385</td>\n",
       "      <td>0.462633</td>\n",
       "      <td>0.630252</td>\n",
       "      <td>0.539167</td>\n",
       "    </tr>\n",
       "    <tr>\n",
       "      <th>UCD</th>\n",
       "      <td>0.711864</td>\n",
       "      <td>0.770270</td>\n",
       "      <td>0.284636</td>\n",
       "      <td>0.594234</td>\n",
       "      <td>0.728682</td>\n",
       "      <td>0.615385</td>\n",
       "      <td>0.538462</td>\n",
       "      <td>0.686567</td>\n",
       "    </tr>\n",
       "    <tr>\n",
       "      <th>UCSD</th>\n",
       "      <td>NaN</td>\n",
       "      <td>0.580882</td>\n",
       "      <td>0.158818</td>\n",
       "      <td>0.581800</td>\n",
       "      <td>0.727794</td>\n",
       "      <td>0.715415</td>\n",
       "      <td>0.555556</td>\n",
       "      <td>0.625150</td>\n",
       "    </tr>\n",
       "    <tr>\n",
       "      <th>UCSC</th>\n",
       "      <td>0.793846</td>\n",
       "      <td>0.454054</td>\n",
       "      <td>0.316677</td>\n",
       "      <td>0.741525</td>\n",
       "      <td>0.822526</td>\n",
       "      <td>0.812834</td>\n",
       "      <td>0.709302</td>\n",
       "      <td>0.667989</td>\n",
       "    </tr>\n",
       "    <tr>\n",
       "      <th>UCM</th>\n",
       "      <td>0.794521</td>\n",
       "      <td>NaN</td>\n",
       "      <td>NaN</td>\n",
       "      <td>0.739130</td>\n",
       "      <td>0.785714</td>\n",
       "      <td>NaN</td>\n",
       "      <td>NaN</td>\n",
       "      <td>0.731183</td>\n",
       "    </tr>\n",
       "    <tr>\n",
       "      <th>UCR</th>\n",
       "      <td>0.804651</td>\n",
       "      <td>0.592965</td>\n",
       "      <td>0.379851</td>\n",
       "      <td>0.810219</td>\n",
       "      <td>0.816406</td>\n",
       "      <td>0.847826</td>\n",
       "      <td>0.631148</td>\n",
       "      <td>0.817017</td>\n",
       "    </tr>\n",
       "  </tbody>\n",
       "</table>\n",
       "</div>"
      ],
      "text/plain": [
       "Major name  Anthropology  Chemistry  Computer science  Economics   History  \\\n",
       "University                                                                   \n",
       "UCLA            0.366359   0.230769          0.023535        NaN       NaN   \n",
       "UCB             0.145695   0.308271          0.039669   0.221339  0.188623   \n",
       "UCI             0.417808   0.408676          0.111836   0.325048  0.685629   \n",
       "UCSB            0.506329   0.561247          0.096636   0.578329  0.515385   \n",
       "UCD             0.711864   0.770270          0.284636   0.594234  0.728682   \n",
       "UCSD                 NaN   0.580882          0.158818   0.581800  0.727794   \n",
       "UCSC            0.793846   0.454054          0.316677   0.741525  0.822526   \n",
       "UCM             0.794521        NaN               NaN   0.739130  0.785714   \n",
       "UCR             0.804651   0.592965          0.379851   0.810219  0.816406   \n",
       "\n",
       "Major name  Philosophy   Physics  Sociology  \n",
       "University                                   \n",
       "UCLA          0.406593  0.367021        NaN  \n",
       "UCB           0.510448  0.398907   0.177609  \n",
       "UCI           0.713725  0.351724   0.428203  \n",
       "UCSB          0.462633  0.630252   0.539167  \n",
       "UCD           0.615385  0.538462   0.686567  \n",
       "UCSD          0.715415  0.555556   0.625150  \n",
       "UCSC          0.812834  0.709302   0.667989  \n",
       "UCM                NaN       NaN   0.731183  \n",
       "UCR           0.847826  0.631148   0.817017  "
      ]
     },
     "execution_count": 246,
     "metadata": {},
     "output_type": "execute_result"
    }
   ],
   "source": [
    "# Create data frame with majors that exist in more than 7 UC's\n",
    "tot_majors = create_majors_df(7)\n",
    "\n",
    "# Pivot data frame to one column per major and admit rates per campus as cell values\n",
    "pivot2 = tot_majors.pivot_table(index='University', columns='Major name', values='Admit rate')\n",
    "pivot2 = pivot2.reindex(values_rate)\n",
    "pivot2"
   ]
  },
  {
   "cell_type": "code",
   "execution_count": 233,
   "id": "e3fce298",
   "metadata": {},
   "outputs": [
    {
     "data": {
      "text/html": [
       "<div>\n",
       "<style scoped>\n",
       "    .dataframe tbody tr th:only-of-type {\n",
       "        vertical-align: middle;\n",
       "    }\n",
       "\n",
       "    .dataframe tbody tr th {\n",
       "        vertical-align: top;\n",
       "    }\n",
       "\n",
       "    .dataframe thead th {\n",
       "        text-align: right;\n",
       "    }\n",
       "</style>\n",
       "<table border=\"1\" class=\"dataframe\">\n",
       "  <thead>\n",
       "    <tr style=\"text-align: right;\">\n",
       "      <th></th>\n",
       "      <th>Major name</th>\n",
       "      <th>Applicants</th>\n",
       "      <th>Admit rate</th>\n",
       "      <th>Total Applicants</th>\n",
       "    </tr>\n",
       "  </thead>\n",
       "  <tbody>\n",
       "    <tr>\n",
       "      <th>5</th>\n",
       "      <td>Computer science</td>\n",
       "      <td>1397</td>\n",
       "      <td>0.096636</td>\n",
       "      <td>13297</td>\n",
       "    </tr>\n",
       "    <tr>\n",
       "      <th>21</th>\n",
       "      <td>Computer science</td>\n",
       "      <td>1997</td>\n",
       "      <td>0.023535</td>\n",
       "      <td>13297</td>\n",
       "    </tr>\n",
       "    <tr>\n",
       "      <th>32</th>\n",
       "      <td>Computer science</td>\n",
       "      <td>1458</td>\n",
       "      <td>0.284636</td>\n",
       "      <td>13297</td>\n",
       "    </tr>\n",
       "    <tr>\n",
       "      <th>19</th>\n",
       "      <td>Computer science</td>\n",
       "      <td>1996</td>\n",
       "      <td>0.158818</td>\n",
       "      <td>13297</td>\n",
       "    </tr>\n",
       "    <tr>\n",
       "      <th>14</th>\n",
       "      <td>Computer science</td>\n",
       "      <td>1340</td>\n",
       "      <td>0.379851</td>\n",
       "      <td>13297</td>\n",
       "    </tr>\n",
       "    <tr>\n",
       "      <th>...</th>\n",
       "      <td>...</td>\n",
       "      <td>...</td>\n",
       "      <td>...</td>\n",
       "      <td>...</td>\n",
       "    </tr>\n",
       "    <tr>\n",
       "      <th>76</th>\n",
       "      <td>Geology</td>\n",
       "      <td>20</td>\n",
       "      <td>0.3</td>\n",
       "      <td>182</td>\n",
       "    </tr>\n",
       "    <tr>\n",
       "      <th>71</th>\n",
       "      <td>Geology</td>\n",
       "      <td>30</td>\n",
       "      <td>0.7</td>\n",
       "      <td>182</td>\n",
       "    </tr>\n",
       "    <tr>\n",
       "      <th>67</th>\n",
       "      <td>Geology</td>\n",
       "      <td>22</td>\n",
       "      <td>0.318182</td>\n",
       "      <td>182</td>\n",
       "    </tr>\n",
       "    <tr>\n",
       "      <th>26</th>\n",
       "      <td>Geology</td>\n",
       "      <td>83</td>\n",
       "      <td>0.46988</td>\n",
       "      <td>182</td>\n",
       "    </tr>\n",
       "    <tr>\n",
       "      <th>47</th>\n",
       "      <td>Geology</td>\n",
       "      <td>27</td>\n",
       "      <td>0.444444</td>\n",
       "      <td>182</td>\n",
       "    </tr>\n",
       "  </tbody>\n",
       "</table>\n",
       "<p>180 rows × 4 columns</p>\n",
       "</div>"
      ],
      "text/plain": [
       "          Major name Applicants Admit rate Total Applicants\n",
       "5   Computer science       1397   0.096636            13297\n",
       "21  Computer science       1997   0.023535            13297\n",
       "32  Computer science       1458   0.284636            13297\n",
       "19  Computer science       1996   0.158818            13297\n",
       "14  Computer science       1340   0.379851            13297\n",
       "..               ...        ...        ...              ...\n",
       "76           Geology         20        0.3              182\n",
       "71           Geology         30        0.7              182\n",
       "67           Geology         22   0.318182              182\n",
       "26           Geology         83    0.46988              182\n",
       "47           Geology         27   0.444444              182\n",
       "\n",
       "[180 rows x 4 columns]"
      ]
     },
     "execution_count": 233,
     "metadata": {},
     "output_type": "execute_result"
    }
   ],
   "source": [
    "# Create a second data frame with more majors\n",
    "tot_majors2 = create_majors_df(3)\n",
    "\n",
    "# Drop unused columns\n",
    "cols2 = [m for m in list(tot_majors.columns) if m not in ['Major name', 'Admit rate','Applicants']]\n",
    "tot_majors2 = tot_majors2.drop(columns=cols2)\n",
    "\n",
    "# Create new column with the partial sum of the number of applicants per major\n",
    "tot_majors2['Total Applicants'] = tot_majors2.groupby(['Major name']).Applicants.transform('sum')\n",
    "\n",
    "# Sort rows by new column\n",
    "tot_majors2 = tot_majors2.sort_values(by=['Total Applicants'], ascending=False)\n",
    "tot_majors2"
   ]
  },
  {
   "cell_type": "code",
   "execution_count": 234,
   "id": "37dfb9d0",
   "metadata": {
    "scrolled": true
   },
   "outputs": [
    {
     "data": {
      "text/html": [
       "<div>\n",
       "<style scoped>\n",
       "    .dataframe tbody tr th:only-of-type {\n",
       "        vertical-align: middle;\n",
       "    }\n",
       "\n",
       "    .dataframe tbody tr th {\n",
       "        vertical-align: top;\n",
       "    }\n",
       "\n",
       "    .dataframe thead th {\n",
       "        text-align: right;\n",
       "    }\n",
       "</style>\n",
       "<table border=\"1\" class=\"dataframe\">\n",
       "  <thead>\n",
       "    <tr style=\"text-align: right;\">\n",
       "      <th>Major name</th>\n",
       "      <th>Anthropology</th>\n",
       "      <th>Chemistry</th>\n",
       "      <th>Computer science</th>\n",
       "      <th>Economics</th>\n",
       "      <th>History</th>\n",
       "      <th>Philosophy</th>\n",
       "      <th>Physics</th>\n",
       "      <th>Sociology</th>\n",
       "    </tr>\n",
       "    <tr>\n",
       "      <th>University</th>\n",
       "      <th></th>\n",
       "      <th></th>\n",
       "      <th></th>\n",
       "      <th></th>\n",
       "      <th></th>\n",
       "      <th></th>\n",
       "      <th></th>\n",
       "      <th></th>\n",
       "    </tr>\n",
       "  </thead>\n",
       "  <tbody>\n",
       "    <tr>\n",
       "      <th>UCLA</th>\n",
       "      <td>3.73</td>\n",
       "      <td>3.84</td>\n",
       "      <td>3.96</td>\n",
       "      <td>NaN</td>\n",
       "      <td>NaN</td>\n",
       "      <td>3.77</td>\n",
       "      <td>3.84</td>\n",
       "      <td>NaN</td>\n",
       "    </tr>\n",
       "    <tr>\n",
       "      <th>UCB</th>\n",
       "      <td>3.67</td>\n",
       "      <td>3.52</td>\n",
       "      <td>3.81</td>\n",
       "      <td>3.69</td>\n",
       "      <td>3.81</td>\n",
       "      <td>3.66</td>\n",
       "      <td>3.54</td>\n",
       "      <td>3.64</td>\n",
       "    </tr>\n",
       "    <tr>\n",
       "      <th>UCI</th>\n",
       "      <td>3.69</td>\n",
       "      <td>3.64</td>\n",
       "      <td>3.92</td>\n",
       "      <td>3.79</td>\n",
       "      <td>3.44</td>\n",
       "      <td>3.41</td>\n",
       "      <td>3.65</td>\n",
       "      <td>3.69</td>\n",
       "    </tr>\n",
       "    <tr>\n",
       "      <th>UCSB</th>\n",
       "      <td>3.53</td>\n",
       "      <td>3.59</td>\n",
       "      <td>3.97</td>\n",
       "      <td>3.52</td>\n",
       "      <td>3.55</td>\n",
       "      <td>3.54</td>\n",
       "      <td>3.54</td>\n",
       "      <td>3.52</td>\n",
       "    </tr>\n",
       "    <tr>\n",
       "      <th>UCD</th>\n",
       "      <td>3.32</td>\n",
       "      <td>3.26</td>\n",
       "      <td>3.79</td>\n",
       "      <td>3.56</td>\n",
       "      <td>3.39</td>\n",
       "      <td>3.48</td>\n",
       "      <td>3.54</td>\n",
       "      <td>3.48</td>\n",
       "    </tr>\n",
       "    <tr>\n",
       "      <th>UCSD</th>\n",
       "      <td>NaN</td>\n",
       "      <td>3.49</td>\n",
       "      <td>3.92</td>\n",
       "      <td>3.57</td>\n",
       "      <td>3.29</td>\n",
       "      <td>3.30</td>\n",
       "      <td>3.47</td>\n",
       "      <td>3.47</td>\n",
       "    </tr>\n",
       "    <tr>\n",
       "      <th>UCSC</th>\n",
       "      <td>3.05</td>\n",
       "      <td>3.16</td>\n",
       "      <td>3.43</td>\n",
       "      <td>3.15</td>\n",
       "      <td>3.05</td>\n",
       "      <td>3.07</td>\n",
       "      <td>3.29</td>\n",
       "      <td>3.06</td>\n",
       "    </tr>\n",
       "    <tr>\n",
       "      <th>UCM</th>\n",
       "      <td>3.02</td>\n",
       "      <td>NaN</td>\n",
       "      <td>NaN</td>\n",
       "      <td>3.16</td>\n",
       "      <td>2.99</td>\n",
       "      <td>NaN</td>\n",
       "      <td>NaN</td>\n",
       "      <td>3.08</td>\n",
       "    </tr>\n",
       "    <tr>\n",
       "      <th>UCR</th>\n",
       "      <td>2.98</td>\n",
       "      <td>3.02</td>\n",
       "      <td>3.51</td>\n",
       "      <td>3.07</td>\n",
       "      <td>3.00</td>\n",
       "      <td>3.05</td>\n",
       "      <td>3.03</td>\n",
       "      <td>3.02</td>\n",
       "    </tr>\n",
       "  </tbody>\n",
       "</table>\n",
       "</div>"
      ],
      "text/plain": [
       "Major name  Anthropology  Chemistry  Computer science  Economics  History  \\\n",
       "University                                                                  \n",
       "UCLA                3.73       3.84              3.96        NaN      NaN   \n",
       "UCB                 3.67       3.52              3.81       3.69     3.81   \n",
       "UCI                 3.69       3.64              3.92       3.79     3.44   \n",
       "UCSB                3.53       3.59              3.97       3.52     3.55   \n",
       "UCD                 3.32       3.26              3.79       3.56     3.39   \n",
       "UCSD                 NaN       3.49              3.92       3.57     3.29   \n",
       "UCSC                3.05       3.16              3.43       3.15     3.05   \n",
       "UCM                 3.02        NaN               NaN       3.16     2.99   \n",
       "UCR                 2.98       3.02              3.51       3.07     3.00   \n",
       "\n",
       "Major name  Philosophy  Physics  Sociology  \n",
       "University                                  \n",
       "UCLA              3.77     3.84        NaN  \n",
       "UCB               3.66     3.54       3.64  \n",
       "UCI               3.41     3.65       3.69  \n",
       "UCSB              3.54     3.54       3.52  \n",
       "UCD               3.48     3.54       3.48  \n",
       "UCSD              3.30     3.47       3.47  \n",
       "UCSC              3.07     3.29       3.06  \n",
       "UCM                NaN      NaN       3.08  \n",
       "UCR               3.05     3.03       3.02  "
      ]
     },
     "execution_count": 234,
     "metadata": {},
     "output_type": "execute_result"
    }
   ],
   "source": [
    "# Create data frame with majors that exist in more than 7 UC's\n",
    "tot_majors3 = create_majors_df(7)\n",
    "\n",
    "# Create a new column for the lower GPA admit range limit\n",
    "tot_majors3['Lower GPA'] = tot_majors['Admit GPA range'].str[0:4].astype(float)\n",
    "\n",
    "# Pivot data frame to one column per major and lower GPA limit per campus as cell values\n",
    "pivot = tot_majors3.pivot_table(index='University', columns='Major name', values='Lower GPA')\n",
    "pivot = pivot.reindex(values_rate)\n",
    "pivot"
   ]
  },
  {
   "cell_type": "code",
   "execution_count": 247,
   "id": "0e0c5e5a",
   "metadata": {},
   "outputs": [],
   "source": [
    "import plotly.graph_objects as go\n",
    "\n",
    "def drop_down_plot(df, title):\n",
    "    \"\"\"\n",
    "    Create an interactive visualization with \n",
    "    a drop down menu to select filter.\n",
    "    Inspired by: Shinichi Okada\n",
    "    https://towardsdatascience.com/how-to-create-an-interactive-dropdown-in-jupyter-322277f58a68\n",
    "    \"\"\"\n",
    "    \n",
    "    fig = go.Figure()\n",
    "    \n",
    "    # Add points to plot and trace\n",
    "    for column in df.columns.to_list():\n",
    "        fig.add_trace(\n",
    "            go.Scatter(\n",
    "                x = df.index,\n",
    "                y = df[column],\n",
    "                name = column\n",
    "            )\n",
    "        )    \n",
    "    \n",
    "    # Create the 'All' button that makes all columns visible \n",
    "    # by setting 'visible' to True for all columns\n",
    "    button_all = dict(label = 'All',\n",
    "                      method = 'update',\n",
    "                      args = [{'visible': df.columns.isin(df.columns),\n",
    "                               'title': 'All',\n",
    "                               'showlegend':True}])\n",
    "\n",
    "    def create_layout_button(column):\n",
    "        \"\"\"\n",
    "        Create a button for the provided column which will\n",
    "        make the data associated with the column visible.\n",
    "        The name property of the plot lines is used to \n",
    "        toggle visibility.\n",
    "        \"\"\"\n",
    "        \n",
    "        return dict(label = column,\n",
    "                    method = 'update',\n",
    "                    args = [{'visible': df.columns.isin([column]),\n",
    "                             'title': column,\n",
    "                             'showlegend': True}])\n",
    "\n",
    "    # Create drop down menu and add the 'All'button \n",
    "    # and one button for each column in the data frame\n",
    "    fig.update_layout(\n",
    "        updatemenus=[go.layout.Updatemenu(\n",
    "            active = 0,\n",
    "            buttons = [button_all] + list(df.columns.map(lambda column: create_layout_button(column)))\n",
    "            )\n",
    "        ]     \n",
    "    )\n",
    "    # Update remaining layout properties\n",
    "    fig.update_layout(\n",
    "        title_text=title,\n",
    "        height=800\n",
    "        \n",
    "    )\n",
    "   \n",
    "    fig.show()"
   ]
  },
  {
   "cell_type": "code",
   "execution_count": 236,
   "id": "4e36fc8a",
   "metadata": {},
   "outputs": [
    {
     "name": "stdout",
     "output_type": "stream",
     "text": [
      "\n"
     ]
    },
    {
     "data": {
      "image/png": "[encoded data removed]",
      "text/plain": [
       "<Figure size 1500x1200 with 1 Axes>"
      ]
     },
     "metadata": {},
     "output_type": "display_data"
    }
   ],
   "source": [
    "import seaborn as sns\n",
    "\n",
    "# Plot major admit rates with majors sorted by \n",
    "# total number of applicants from low to high\n",
    "sns.boxplot(data=tot_majors2, x='Admit rate', y='Major name').set(title='Admit Rates of Common Majors')\n",
    "print('')"
   ]
  },
  {
   "cell_type": "code",
   "execution_count": 248,
   "id": "d3ec17be",
   "metadata": {},
   "outputs": [
    {
     "data": {
      "application/vnd.plotly.v1+json": {
       "config": {
        "plotlyServerURL": "https://plot.ly"
       },
       "data": [
        {
         "name": "Anthropology",
         "type": "scatter",
         "x": [
          "UCLA",
          "UCB",
          "UCI",
          "UCSB",
          "UCD",
          "UCSD",
          "UCSC",
          "UCM",
          "UCR"
         ],
         "y": [
          3.73,
          3.67,
          3.69,
          3.53,
          3.32,
          null,
          3.05,
          3.02,
          2.98
         ]
        },
        {
         "name": "Chemistry",
         "type": "scatter",
         "x": [
          "UCLA",
          "UCB",
          "UCI",
          "UCSB",
          "UCD",
          "UCSD",
          "UCSC",
          "UCM",
          "UCR"
         ],
         "y": [
          3.84,
          3.52,
          3.64,
          3.59,
          3.26,
          3.49,
          3.16,
          null,
          3.02
         ]
        },
        {
         "name": "Computer science",
         "type": "scatter",
         "x": [
          "UCLA",
          "UCB",
          "UCI",
          "UCSB",
          "UCD",
          "UCSD",
          "UCSC",
          "UCM",
          "UCR"
         ],
         "y": [
          3.96,
          3.81,
          3.92,
          3.97,
          3.79,
          3.92,
          3.43,
          null,
          3.51
         ]
        },
        {
         "name": "Economics",
         "type": "scatter",
         "x": [
          "UCLA",
          "UCB",
          "UCI",
          "UCSB",
          "UCD",
          "UCSD",
          "UCSC",
          "UCM",
          "UCR"
         ],
         "y": [
          null,
          3.69,
          3.79,
          3.52,
          3.56,
          3.57,
          3.15,
          3.16,
          3.07
         ]
        },
        {
         "name": "History",
         "type": "scatter",
         "x": [
          "UCLA",
          "UCB",
          "UCI",
          "UCSB",
          "UCD",
          "UCSD",
          "UCSC",
          "UCM",
          "UCR"
         ],
         "y": [
          null,
          3.81,
          3.44,
          3.55,
          3.39,
          3.29,
          3.05,
          2.99,
          3
         ]
        },
        {
         "name": "Philosophy",
         "type": "scatter",
         "x": [
          "UCLA",
          "UCB",
          "UCI",
          "UCSB",
          "UCD",
          "UCSD",
          "UCSC",
          "UCM",
          "UCR"
         ],
         "y": [
          3.77,
          3.66,
          3.41,
          3.54,
          3.48,
          3.3,
          3.07,
          null,
          3.05
         ]
        },
        {
         "name": "Physics",
         "type": "scatter",
         "x": [
          "UCLA",
          "UCB",
          "UCI",
          "UCSB",
          "UCD",
          "UCSD",
          "UCSC",
          "UCM",
          "UCR"
         ],
         "y": [
          3.84,
          3.54,
          3.65,
          3.54,
          3.54,
          3.47,
          3.29,
          null,
          3.03
         ]
        },
        {
         "name": "Sociology",
         "type": "scatter",
         "x": [
          "UCLA",
          "UCB",
          "UCI",
          "UCSB",
          "UCD",
          "UCSD",
          "UCSC",
          "UCM",
          "UCR"
         ],
         "y": [
          null,
          3.64,
          3.69,
          3.52,
          3.48,
          3.47,
          3.06,
          3.08,
          3.02
         ]
        }
       ],
       "layout": {
        "height": 800,
        "template": {
         "data": {
          "bar": [
           {
            "error_x": {
             "color": "#2a3f5f"
            },
            "error_y": {
             "color": "#2a3f5f"
            },
            "marker": {
             "line": {
              "color": "#E5ECF6",
              "width": 0.5
             },
             "pattern": {
              "fillmode": "overlay",
              "size": 10,
              "solidity": 0.2
             }
            },
            "type": "bar"
           }
          ],
          "barpolar": [
           {
            "marker": {
             "line": {
              "color": "#E5ECF6",
              "width": 0.5
             },
             "pattern": {
              "fillmode": "overlay",
              "size": 10,
              "solidity": 0.2
             }
            },
            "type": "barpolar"
           }
          ],
          "carpet": [
           {
            "aaxis": {
             "endlinecolor": "#2a3f5f",
             "gridcolor": "white",
             "linecolor": "white",
             "minorgridcolor": "white",
             "startlinecolor": "#2a3f5f"
            },
            "baxis": {
             "endlinecolor": "#2a3f5f",
             "gridcolor": "white",
             "linecolor": "white",
             "minorgridcolor": "white",
             "startlinecolor": "#2a3f5f"
            },
            "type": "carpet"
           }
          ],
          "choropleth": [
           {
            "colorbar": {
             "outlinewidth": 0,
             "ticks": ""
            },
            "type": "choropleth"
           }
          ],
          "contour": [
           {
            "colorbar": {
             "outlinewidth": 0,
             "ticks": ""
            },
            "colorscale": [
             [
              0,
              "#0d0887"
             ],
             [
              0.1111111111111111,
              "#46039f"
             ],
             [
              0.2222222222222222,
              "#7201a8"
             ],
             [
              0.3333333333333333,
              "#9c179e"
             ],
             [
              0.4444444444444444,
              "#bd3786"
             ],
             [
              0.5555555555555556,
              "#d8576b"
             ],
             [
              0.6666666666666666,
              "#ed7953"
             ],
             [
              0.7777777777777778,
              "#fb9f3a"
             ],
             [
              0.8888888888888888,
              "#fdca26"
             ],
             [
              1,
              "#f0f921"
             ]
            ],
            "type": "contour"
           }
          ],
          "contourcarpet": [
           {
            "colorbar": {
             "outlinewidth": 0,
             "ticks": ""
            },
            "type": "contourcarpet"
           }
          ],
          "heatmap": [
           {
            "colorbar": {
             "outlinewidth": 0,
             "ticks": ""
            },
            "colorscale": [
             [
              0,
              "#0d0887"
             ],
             [
              0.1111111111111111,
              "#46039f"
             ],
             [
              0.2222222222222222,
              "#7201a8"
             ],
             [
              0.3333333333333333,
              "#9c179e"
             ],
             [
              0.4444444444444444,
              "#bd3786"
             ],
             [
              0.5555555555555556,
              "#d8576b"
             ],
             [
              0.6666666666666666,
              "#ed7953"
             ],
             [
              0.7777777777777778,
              "#fb9f3a"
             ],
             [
              0.8888888888888888,
              "#fdca26"
             ],
             [
              1,
              "#f0f921"
             ]
            ],
            "type": "heatmap"
           }
          ],
          "heatmapgl": [
           {
            "colorbar": {
             "outlinewidth": 0,
             "ticks": ""
            },
            "colorscale": [
             [
              0,
              "#0d0887"
             ],
             [
              0.1111111111111111,
              "#46039f"
             ],
             [
              0.2222222222222222,
              "#7201a8"
             ],
             [
              0.3333333333333333,
              "#9c179e"
             ],
             [
              0.4444444444444444,
              "#bd3786"
             ],
             [
              0.5555555555555556,
              "#d8576b"
             ],
             [
              0.6666666666666666,
              "#ed7953"
             ],
             [
              0.7777777777777778,
              "#fb9f3a"
             ],
             [
              0.8888888888888888,
              "#fdca26"
             ],
             [
              1,
              "#f0f921"
             ]
            ],
            "type": "heatmapgl"
           }
          ],
          "histogram": [
           {
            "marker": {
             "pattern": {
              "fillmode": "overlay",
              "size": 10,
              "solidity": 0.2
             }
            },
            "type": "histogram"
           }
          ],
          "histogram2d": [
           {
            "colorbar": {
             "outlinewidth": 0,
             "ticks": ""
            },
            "colorscale": [
             [
              0,
              "#0d0887"
             ],
             [
              0.1111111111111111,
              "#46039f"
             ],
             [
              0.2222222222222222,
              "#7201a8"
             ],
             [
              0.3333333333333333,
              "#9c179e"
             ],
             [
              0.4444444444444444,
              "#bd3786"
             ],
             [
              0.5555555555555556,
              "#d8576b"
             ],
             [
              0.6666666666666666,
              "#ed7953"
             ],
             [
              0.7777777777777778,
              "#fb9f3a"
             ],
             [
              0.8888888888888888,
              "#fdca26"
             ],
             [
              1,
              "#f0f921"
             ]
            ],
            "type": "histogram2d"
           }
          ],
          "histogram2dcontour": [
           {
            "colorbar": {
             "outlinewidth": 0,
             "ticks": ""
            },
            "colorscale": [
             [
              0,
              "#0d0887"
             ],
             [
              0.1111111111111111,
              "#46039f"
             ],
             [
              0.2222222222222222,
              "#7201a8"
             ],
             [
              0.3333333333333333,
              "#9c179e"
             ],
             [
              0.4444444444444444,
              "#bd3786"
             ],
             [
              0.5555555555555556,
              "#d8576b"
             ],
             [
              0.6666666666666666,
              "#ed7953"
             ],
             [
              0.7777777777777778,
              "#fb9f3a"
             ],
             [
              0.8888888888888888,
              "#fdca26"
             ],
             [
              1,
              "#f0f921"
             ]
            ],
            "type": "histogram2dcontour"
           }
          ],
          "mesh3d": [
           {
            "colorbar": {
             "outlinewidth": 0,
             "ticks": ""
            },
            "type": "mesh3d"
           }
          ],
          "parcoords": [
           {
            "line": {
             "colorbar": {
              "outlinewidth": 0,
              "ticks": ""
             }
            },
            "type": "parcoords"
           }
          ],
          "pie": [
           {
            "automargin": true,
            "type": "pie"
           }
          ],
          "scatter": [
           {
            "fillpattern": {
             "fillmode": "overlay",
             "size": 10,
             "solidity": 0.2
            },
            "type": "scatter"
           }
          ],
          "scatter3d": [
           {
            "line": {
             "colorbar": {
              "outlinewidth": 0,
              "ticks": ""
             }
            },
            "marker": {
             "colorbar": {
              "outlinewidth": 0,
              "ticks": ""
             }
            },
            "type": "scatter3d"
           }
          ],
          "scattercarpet": [
           {
            "marker": {
             "colorbar": {
              "outlinewidth": 0,
              "ticks": ""
             }
            },
            "type": "scattercarpet"
           }
          ],
          "scattergeo": [
           {
            "marker": {
             "colorbar": {
              "outlinewidth": 0,
              "ticks": ""
             }
            },
            "type": "scattergeo"
           }
          ],
          "scattergl": [
           {
            "marker": {
             "colorbar": {
              "outlinewidth": 0,
              "ticks": ""
             }
            },
            "type": "scattergl"
           }
          ],
          "scattermapbox": [
           {
            "marker": {
             "colorbar": {
              "outlinewidth": 0,
              "ticks": ""
             }
            },
            "type": "scattermapbox"
           }
          ],
          "scatterpolar": [
           {
            "marker": {
             "colorbar": {
              "outlinewidth": 0,
              "ticks": ""
             }
            },
            "type": "scatterpolar"
           }
          ],
          "scatterpolargl": [
           {
            "marker": {
             "colorbar": {
              "outlinewidth": 0,
              "ticks": ""
             }
            },
            "type": "scatterpolargl"
           }
          ],
          "scatterternary": [
           {
            "marker": {
             "colorbar": {
              "outlinewidth": 0,
              "ticks": ""
             }
            },
            "type": "scatterternary"
           }
          ],
          "surface": [
           {
            "colorbar": {
             "outlinewidth": 0,
             "ticks": ""
            },
            "colorscale": [
             [
              0,
              "#0d0887"
             ],
             [
              0.1111111111111111,
              "#46039f"
             ],
             [
              0.2222222222222222,
              "#7201a8"
             ],
             [
              0.3333333333333333,
              "#9c179e"
             ],
             [
              0.4444444444444444,
              "#bd3786"
             ],
             [
              0.5555555555555556,
              "#d8576b"
             ],
             [
              0.6666666666666666,
              "#ed7953"
             ],
             [
              0.7777777777777778,
              "#fb9f3a"
             ],
             [
              0.8888888888888888,
              "#fdca26"
             ],
             [
              1,
              "#f0f921"
             ]
            ],
            "type": "surface"
           }
          ],
          "table": [
           {
            "cells": {
             "fill": {
              "color": "#EBF0F8"
             },
             "line": {
              "color": "white"
             }
            },
            "header": {
             "fill": {
              "color": "#C8D4E3"
             },
             "line": {
              "color": "white"
             }
            },
            "type": "table"
           }
          ]
         },
         "layout": {
          "annotationdefaults": {
           "arrowcolor": "#2a3f5f",
           "arrowhead": 0,
           "arrowwidth": 1
          },
          "autotypenumbers": "strict",
          "coloraxis": {
           "colorbar": {
            "outlinewidth": 0,
            "ticks": ""
           }
          },
          "colorscale": {
           "diverging": [
            [
             0,
             "#8e0152"
            ],
            [
             0.1,
             "#c51b7d"
            ],
            [
             0.2,
             "#de77ae"
            ],
            [
             0.3,
             "#f1b6da"
            ],
            [
             0.4,
             "#fde0ef"
            ],
            [
             0.5,
             "#f7f7f7"
            ],
            [
             0.6,
             "#e6f5d0"
            ],
            [
             0.7,
             "#b8e186"
            ],
            [
             0.8,
             "#7fbc41"
            ],
            [
             0.9,
             "#4d9221"
            ],
            [
             1,
             "#276419"
            ]
           ],
           "sequential": [
            [
             0,
             "#0d0887"
            ],
            [
             0.1111111111111111,
             "#46039f"
            ],
            [
             0.2222222222222222,
             "#7201a8"
            ],
            [
             0.3333333333333333,
             "#9c179e"
            ],
            [
             0.4444444444444444,
             "#bd3786"
            ],
            [
             0.5555555555555556,
             "#d8576b"
            ],
            [
             0.6666666666666666,
             "#ed7953"
            ],
            [
             0.7777777777777778,
             "#fb9f3a"
            ],
            [
             0.8888888888888888,
             "#fdca26"
            ],
            [
             1,
             "#f0f921"
            ]
           ],
           "sequentialminus": [
            [
             0,
             "#0d0887"
            ],
            [
             0.1111111111111111,
             "#46039f"
            ],
            [
             0.2222222222222222,
             "#7201a8"
            ],
            [
             0.3333333333333333,
             "#9c179e"
            ],
            [
             0.4444444444444444,
             "#bd3786"
            ],
            [
             0.5555555555555556,
             "#d8576b"
            ],
            [
             0.6666666666666666,
             "#ed7953"
            ],
            [
             0.7777777777777778,
             "#fb9f3a"
            ],
            [
             0.8888888888888888,
             "#fdca26"
            ],
            [
             1,
             "#f0f921"
            ]
           ]
          },
          "colorway": [
           "#636efa",
           "#EF553B",
           "#00cc96",
           "#ab63fa",
           "#FFA15A",
           "#19d3f3",
           "#FF6692",
           "#B6E880",
           "#FF97FF",
           "#FECB52"
          ],
          "font": {
           "color": "#2a3f5f"
          },
          "geo": {
           "bgcolor": "white",
           "lakecolor": "white",
           "landcolor": "#E5ECF6",
           "showlakes": true,
           "showland": true,
           "subunitcolor": "white"
          },
          "hoverlabel": {
           "align": "left"
          },
          "hovermode": "closest",
          "mapbox": {
           "style": "light"
          },
          "paper_bgcolor": "white",
          "plot_bgcolor": "#E5ECF6",
          "polar": {
           "angularaxis": {
            "gridcolor": "white",
            "linecolor": "white",
            "ticks": ""
           },
           "bgcolor": "#E5ECF6",
           "radialaxis": {
            "gridcolor": "white",
            "linecolor": "white",
            "ticks": ""
           }
          },
          "scene": {
           "xaxis": {
            "backgroundcolor": "#E5ECF6",
            "gridcolor": "white",
            "gridwidth": 2,
            "linecolor": "white",
            "showbackground": true,
            "ticks": "",
            "zerolinecolor": "white"
           },
           "yaxis": {
            "backgroundcolor": "#E5ECF6",
            "gridcolor": "white",
            "gridwidth": 2,
            "linecolor": "white",
            "showbackground": true,
            "ticks": "",
            "zerolinecolor": "white"
           },
           "zaxis": {
            "backgroundcolor": "#E5ECF6",
            "gridcolor": "white",
            "gridwidth": 2,
            "linecolor": "white",
            "showbackground": true,
            "ticks": "",
            "zerolinecolor": "white"
           }
          },
          "shapedefaults": {
           "line": {
            "color": "#2a3f5f"
           }
          },
          "ternary": {
           "aaxis": {
            "gridcolor": "white",
            "linecolor": "white",
            "ticks": ""
           },
           "baxis": {
            "gridcolor": "white",
            "linecolor": "white",
            "ticks": ""
           },
           "bgcolor": "#E5ECF6",
           "caxis": {
            "gridcolor": "white",
            "linecolor": "white",
            "ticks": ""
           }
          },
          "title": {
           "x": 0.05
          },
          "xaxis": {
           "automargin": true,
           "gridcolor": "white",
           "linecolor": "white",
           "ticks": "",
           "title": {
            "standoff": 15
           },
           "zerolinecolor": "white",
           "zerolinewidth": 2
          },
          "yaxis": {
           "automargin": true,
           "gridcolor": "white",
           "linecolor": "white",
           "ticks": "",
           "title": {
            "standoff": 15
           },
           "zerolinecolor": "white",
           "zerolinewidth": 2
          }
         }
        },
        "title": {
         "text": "Lower GPA Admit Limit of Most Common Majors by Campus"
        },
        "updatemenus": [
         {
          "active": 0,
          "buttons": [
           {
            "args": [
             {
              "showlegend": true,
              "title": "All",
              "visible": [
               true,
               true,
               true,
               true,
               true,
               true,
               true,
               true
              ]
             }
            ],
            "label": "All",
            "method": "update"
           },
           {
            "args": [
             {
              "showlegend": true,
              "title": "Anthropology",
              "visible": [
               true,
               false,
               false,
               false,
               false,
               false,
               false,
               false
              ]
             }
            ],
            "label": "Anthropology",
            "method": "update"
           },
           {
            "args": [
             {
              "showlegend": true,
              "title": "Chemistry",
              "visible": [
               false,
               true,
               false,
               false,
               false,
               false,
               false,
               false
              ]
             }
            ],
            "label": "Chemistry",
            "method": "update"
           },
           {
            "args": [
             {
              "showlegend": true,
              "title": "Computer science",
              "visible": [
               false,
               false,
               true,
               false,
               false,
               false,
               false,
               false
              ]
             }
            ],
            "label": "Computer science",
            "method": "update"
           },
           {
            "args": [
             {
              "showlegend": true,
              "title": "Economics",
              "visible": [
               false,
               false,
               false,
               true,
               false,
               false,
               false,
               false
              ]
             }
            ],
            "label": "Economics",
            "method": "update"
           },
           {
            "args": [
             {
              "showlegend": true,
              "title": "History",
              "visible": [
               false,
               false,
               false,
               false,
               true,
               false,
               false,
               false
              ]
             }
            ],
            "label": "History",
            "method": "update"
           },
           {
            "args": [
             {
              "showlegend": true,
              "title": "Philosophy",
              "visible": [
               false,
               false,
               false,
               false,
               false,
               true,
               false,
               false
              ]
             }
            ],
            "label": "Philosophy",
            "method": "update"
           },
           {
            "args": [
             {
              "showlegend": true,
              "title": "Physics",
              "visible": [
               false,
               false,
               false,
               false,
               false,
               false,
               true,
               false
              ]
             }
            ],
            "label": "Physics",
            "method": "update"
           },
           {
            "args": [
             {
              "showlegend": true,
              "title": "Sociology",
              "visible": [
               false,
               false,
               false,
               false,
               false,
               false,
               false,
               true
              ]
             }
            ],
            "label": "Sociology",
            "method": "update"
           }
          ]
         }
        ]
       }
      },
      "text/html": [
       "<div>                            <div id=\"1b726e86-bad0-4ca9-9500-8ec423ad228d\" class=\"plotly-graph-div\" style=\"height:800px; width:100%;\"></div>            <script type=\"text/javascript\">                require([\"plotly\"], function(Plotly) {                    window.PLOTLYENV=window.PLOTLYENV || {};                                    if (document.getElementById(\"1b726e86-bad0-4ca9-9500-8ec423ad228d\")) {                    Plotly.newPlot(                        \"1b726e86-bad0-4ca9-9500-8ec423ad228d\",                        [{\"name\":\"Anthropology\",\"x\":[\"UCLA\",\"UCB\",\"UCI\",\"UCSB\",\"UCD\",\"UCSD\",\"UCSC\",\"UCM\",\"UCR\"],\"y\":[3.73,3.67,3.69,3.53,3.32,null,3.05,3.02,2.98],\"type\":\"scatter\"},{\"name\":\"Chemistry\",\"x\":[\"UCLA\",\"UCB\",\"UCI\",\"UCSB\",\"UCD\",\"UCSD\",\"UCSC\",\"UCM\",\"UCR\"],\"y\":[3.84,3.52,3.64,3.59,3.26,3.49,3.16,null,3.02],\"type\":\"scatter\"},{\"name\":\"Computer science\",\"x\":[\"UCLA\",\"UCB\",\"UCI\",\"UCSB\",\"UCD\",\"UCSD\",\"UCSC\",\"UCM\",\"UCR\"],\"y\":[3.96,3.81,3.92,3.97,3.79,3.92,3.43,null,3.51],\"type\":\"scatter\"},{\"name\":\"Economics\",\"x\":[\"UCLA\",\"UCB\",\"UCI\",\"UCSB\",\"UCD\",\"UCSD\",\"UCSC\",\"UCM\",\"UCR\"],\"y\":[null,3.69,3.79,3.52,3.56,3.57,3.15,3.16,3.07],\"type\":\"scatter\"},{\"name\":\"History\",\"x\":[\"UCLA\",\"UCB\",\"UCI\",\"UCSB\",\"UCD\",\"UCSD\",\"UCSC\",\"UCM\",\"UCR\"],\"y\":[null,3.81,3.44,3.55,3.39,3.29,3.05,2.99,3.0],\"type\":\"scatter\"},{\"name\":\"Philosophy\",\"x\":[\"UCLA\",\"UCB\",\"UCI\",\"UCSB\",\"UCD\",\"UCSD\",\"UCSC\",\"UCM\",\"UCR\"],\"y\":[3.77,3.66,3.41,3.54,3.48,3.3,3.07,null,3.05],\"type\":\"scatter\"},{\"name\":\"Physics\",\"x\":[\"UCLA\",\"UCB\",\"UCI\",\"UCSB\",\"UCD\",\"UCSD\",\"UCSC\",\"UCM\",\"UCR\"],\"y\":[3.84,3.54,3.65,3.54,3.54,3.47,3.29,null,3.03],\"type\":\"scatter\"},{\"name\":\"Sociology\",\"x\":[\"UCLA\",\"UCB\",\"UCI\",\"UCSB\",\"UCD\",\"UCSD\",\"UCSC\",\"UCM\",\"UCR\"],\"y\":[null,3.64,3.69,3.52,3.48,3.47,3.06,3.08,3.02],\"type\":\"scatter\"}],                        {\"template\":{\"data\":{\"histogram2dcontour\":[{\"type\":\"histogram2dcontour\",\"colorbar\":{\"outlinewidth\":0,\"ticks\":\"\"},\"colorscale\":[[0.0,\"#0d0887\"],[0.1111111111111111,\"#46039f\"],[0.2222222222222222,\"#7201a8\"],[0.3333333333333333,\"#9c179e\"],[0.4444444444444444,\"#bd3786\"],[0.5555555555555556,\"#d8576b\"],[0.6666666666666666,\"#ed7953\"],[0.7777777777777778,\"#fb9f3a\"],[0.8888888888888888,\"#fdca26\"],[1.0,\"#f0f921\"]]}],\"choropleth\":[{\"type\":\"choropleth\",\"colorbar\":{\"outlinewidth\":0,\"ticks\":\"\"}}],\"histogram2d\":[{\"type\":\"histogram2d\",\"colorbar\":{\"outlinewidth\":0,\"ticks\":\"\"},\"colorscale\":[[0.0,\"#0d0887\"],[0.1111111111111111,\"#46039f\"],[0.2222222222222222,\"#7201a8\"],[0.3333333333333333,\"#9c179e\"],[0.4444444444444444,\"#bd3786\"],[0.5555555555555556,\"#d8576b\"],[0.6666666666666666,\"#ed7953\"],[0.7777777777777778,\"#fb9f3a\"],[0.8888888888888888,\"#fdca26\"],[1.0,\"#f0f921\"]]}],\"heatmap\":[{\"type\":\"heatmap\",\"colorbar\":{\"outlinewidth\":0,\"ticks\":\"\"},\"colorscale\":[[0.0,\"#0d0887\"],[0.1111111111111111,\"#46039f\"],[0.2222222222222222,\"#7201a8\"],[0.3333333333333333,\"#9c179e\"],[0.4444444444444444,\"#bd3786\"],[0.5555555555555556,\"#d8576b\"],[0.6666666666666666,\"#ed7953\"],[0.7777777777777778,\"#fb9f3a\"],[0.8888888888888888,\"#fdca26\"],[1.0,\"#f0f921\"]]}],\"heatmapgl\":[{\"type\":\"heatmapgl\",\"colorbar\":{\"outlinewidth\":0,\"ticks\":\"\"},\"colorscale\":[[0.0,\"#0d0887\"],[0.1111111111111111,\"#46039f\"],[0.2222222222222222,\"#7201a8\"],[0.3333333333333333,\"#9c179e\"],[0.4444444444444444,\"#bd3786\"],[0.5555555555555556,\"#d8576b\"],[0.6666666666666666,\"#ed7953\"],[0.7777777777777778,\"#fb9f3a\"],[0.8888888888888888,\"#fdca26\"],[1.0,\"#f0f921\"]]}],\"contourcarpet\":[{\"type\":\"contourcarpet\",\"colorbar\":{\"outlinewidth\":0,\"ticks\":\"\"}}],\"contour\":[{\"type\":\"contour\",\"colorbar\":{\"outlinewidth\":0,\"ticks\":\"\"},\"colorscale\":[[0.0,\"#0d0887\"],[0.1111111111111111,\"#46039f\"],[0.2222222222222222,\"#7201a8\"],[0.3333333333333333,\"#9c179e\"],[0.4444444444444444,\"#bd3786\"],[0.5555555555555556,\"#d8576b\"],[0.6666666666666666,\"#ed7953\"],[0.7777777777777778,\"#fb9f3a\"],[0.8888888888888888,\"#fdca26\"],[1.0,\"#f0f921\"]]}],\"surface\":[{\"type\":\"surface\",\"colorbar\":{\"outlinewidth\":0,\"ticks\":\"\"},\"colorscale\":[[0.0,\"#0d0887\"],[0.1111111111111111,\"#46039f\"],[0.2222222222222222,\"#7201a8\"],[0.3333333333333333,\"#9c179e\"],[0.4444444444444444,\"#bd3786\"],[0.5555555555555556,\"#d8576b\"],[0.6666666666666666,\"#ed7953\"],[0.7777777777777778,\"#fb9f3a\"],[0.8888888888888888,\"#fdca26\"],[1.0,\"#f0f921\"]]}],\"mesh3d\":[{\"type\":\"mesh3d\",\"colorbar\":{\"outlinewidth\":0,\"ticks\":\"\"}}],\"scatter\":[{\"fillpattern\":{\"fillmode\":\"overlay\",\"size\":10,\"solidity\":0.2},\"type\":\"scatter\"}],\"parcoords\":[{\"type\":\"parcoords\",\"line\":{\"colorbar\":{\"outlinewidth\":0,\"ticks\":\"\"}}}],\"scatterpolargl\":[{\"type\":\"scatterpolargl\",\"marker\":{\"colorbar\":{\"outlinewidth\":0,\"ticks\":\"\"}}}],\"bar\":[{\"error_x\":{\"color\":\"#2a3f5f\"},\"error_y\":{\"color\":\"#2a3f5f\"},\"marker\":{\"line\":{\"color\":\"#E5ECF6\",\"width\":0.5},\"pattern\":{\"fillmode\":\"overlay\",\"size\":10,\"solidity\":0.2}},\"type\":\"bar\"}],\"scattergeo\":[{\"type\":\"scattergeo\",\"marker\":{\"colorbar\":{\"outlinewidth\":0,\"ticks\":\"\"}}}],\"scatterpolar\":[{\"type\":\"scatterpolar\",\"marker\":{\"colorbar\":{\"outlinewidth\":0,\"ticks\":\"\"}}}],\"histogram\":[{\"marker\":{\"pattern\":{\"fillmode\":\"overlay\",\"size\":10,\"solidity\":0.2}},\"type\":\"histogram\"}],\"scattergl\":[{\"type\":\"scattergl\",\"marker\":{\"colorbar\":{\"outlinewidth\":0,\"ticks\":\"\"}}}],\"scatter3d\":[{\"type\":\"scatter3d\",\"line\":{\"colorbar\":{\"outlinewidth\":0,\"ticks\":\"\"}},\"marker\":{\"colorbar\":{\"outlinewidth\":0,\"ticks\":\"\"}}}],\"scattermapbox\":[{\"type\":\"scattermapbox\",\"marker\":{\"colorbar\":{\"outlinewidth\":0,\"ticks\":\"\"}}}],\"scatterternary\":[{\"type\":\"scatterternary\",\"marker\":{\"colorbar\":{\"outlinewidth\":0,\"ticks\":\"\"}}}],\"scattercarpet\":[{\"type\":\"scattercarpet\",\"marker\":{\"colorbar\":{\"outlinewidth\":0,\"ticks\":\"\"}}}],\"carpet\":[{\"aaxis\":{\"endlinecolor\":\"#2a3f5f\",\"gridcolor\":\"white\",\"linecolor\":\"white\",\"minorgridcolor\":\"white\",\"startlinecolor\":\"#2a3f5f\"},\"baxis\":{\"endlinecolor\":\"#2a3f5f\",\"gridcolor\":\"white\",\"linecolor\":\"white\",\"minorgridcolor\":\"white\",\"startlinecolor\":\"#2a3f5f\"},\"type\":\"carpet\"}],\"table\":[{\"cells\":{\"fill\":{\"color\":\"#EBF0F8\"},\"line\":{\"color\":\"white\"}},\"header\":{\"fill\":{\"color\":\"#C8D4E3\"},\"line\":{\"color\":\"white\"}},\"type\":\"table\"}],\"barpolar\":[{\"marker\":{\"line\":{\"color\":\"#E5ECF6\",\"width\":0.5},\"pattern\":{\"fillmode\":\"overlay\",\"size\":10,\"solidity\":0.2}},\"type\":\"barpolar\"}],\"pie\":[{\"automargin\":true,\"type\":\"pie\"}]},\"layout\":{\"autotypenumbers\":\"strict\",\"colorway\":[\"#636efa\",\"#EF553B\",\"#00cc96\",\"#ab63fa\",\"#FFA15A\",\"#19d3f3\",\"#FF6692\",\"#B6E880\",\"#FF97FF\",\"#FECB52\"],\"font\":{\"color\":\"#2a3f5f\"},\"hovermode\":\"closest\",\"hoverlabel\":{\"align\":\"left\"},\"paper_bgcolor\":\"white\",\"plot_bgcolor\":\"#E5ECF6\",\"polar\":{\"bgcolor\":\"#E5ECF6\",\"angularaxis\":{\"gridcolor\":\"white\",\"linecolor\":\"white\",\"ticks\":\"\"},\"radialaxis\":{\"gridcolor\":\"white\",\"linecolor\":\"white\",\"ticks\":\"\"}},\"ternary\":{\"bgcolor\":\"#E5ECF6\",\"aaxis\":{\"gridcolor\":\"white\",\"linecolor\":\"white\",\"ticks\":\"\"},\"baxis\":{\"gridcolor\":\"white\",\"linecolor\":\"white\",\"ticks\":\"\"},\"caxis\":{\"gridcolor\":\"white\",\"linecolor\":\"white\",\"ticks\":\"\"}},\"coloraxis\":{\"colorbar\":{\"outlinewidth\":0,\"ticks\":\"\"}},\"colorscale\":{\"sequential\":[[0.0,\"#0d0887\"],[0.1111111111111111,\"#46039f\"],[0.2222222222222222,\"#7201a8\"],[0.3333333333333333,\"#9c179e\"],[0.4444444444444444,\"#bd3786\"],[0.5555555555555556,\"#d8576b\"],[0.6666666666666666,\"#ed7953\"],[0.7777777777777778,\"#fb9f3a\"],[0.8888888888888888,\"#fdca26\"],[1.0,\"#f0f921\"]],\"sequentialminus\":[[0.0,\"#0d0887\"],[0.1111111111111111,\"#46039f\"],[0.2222222222222222,\"#7201a8\"],[0.3333333333333333,\"#9c179e\"],[0.4444444444444444,\"#bd3786\"],[0.5555555555555556,\"#d8576b\"],[0.6666666666666666,\"#ed7953\"],[0.7777777777777778,\"#fb9f3a\"],[0.8888888888888888,\"#fdca26\"],[1.0,\"#f0f921\"]],\"diverging\":[[0,\"#8e0152\"],[0.1,\"#c51b7d\"],[0.2,\"#de77ae\"],[0.3,\"#f1b6da\"],[0.4,\"#fde0ef\"],[0.5,\"#f7f7f7\"],[0.6,\"#e6f5d0\"],[0.7,\"#b8e186\"],[0.8,\"#7fbc41\"],[0.9,\"#4d9221\"],[1,\"#276419\"]]},\"xaxis\":{\"gridcolor\":\"white\",\"linecolor\":\"white\",\"ticks\":\"\",\"title\":{\"standoff\":15},\"zerolinecolor\":\"white\",\"automargin\":true,\"zerolinewidth\":2},\"yaxis\":{\"gridcolor\":\"white\",\"linecolor\":\"white\",\"ticks\":\"\",\"title\":{\"standoff\":15},\"zerolinecolor\":\"white\",\"automargin\":true,\"zerolinewidth\":2},\"scene\":{\"xaxis\":{\"backgroundcolor\":\"#E5ECF6\",\"gridcolor\":\"white\",\"linecolor\":\"white\",\"showbackground\":true,\"ticks\":\"\",\"zerolinecolor\":\"white\",\"gridwidth\":2},\"yaxis\":{\"backgroundcolor\":\"#E5ECF6\",\"gridcolor\":\"white\",\"linecolor\":\"white\",\"showbackground\":true,\"ticks\":\"\",\"zerolinecolor\":\"white\",\"gridwidth\":2},\"zaxis\":{\"backgroundcolor\":\"#E5ECF6\",\"gridcolor\":\"white\",\"linecolor\":\"white\",\"showbackground\":true,\"ticks\":\"\",\"zerolinecolor\":\"white\",\"gridwidth\":2}},\"shapedefaults\":{\"line\":{\"color\":\"#2a3f5f\"}},\"annotationdefaults\":{\"arrowcolor\":\"#2a3f5f\",\"arrowhead\":0,\"arrowwidth\":1},\"geo\":{\"bgcolor\":\"white\",\"landcolor\":\"#E5ECF6\",\"subunitcolor\":\"white\",\"showland\":true,\"showlakes\":true,\"lakecolor\":\"white\"},\"title\":{\"x\":0.05},\"mapbox\":{\"style\":\"light\"}}},\"updatemenus\":[{\"active\":0,\"buttons\":[{\"args\":[{\"visible\":[true,true,true,true,true,true,true,true],\"title\":\"All\",\"showlegend\":true}],\"label\":\"All\",\"method\":\"update\"},{\"args\":[{\"visible\":[true,false,false,false,false,false,false,false],\"title\":\"Anthropology\",\"showlegend\":true}],\"label\":\"Anthropology\",\"method\":\"update\"},{\"args\":[{\"visible\":[false,true,false,false,false,false,false,false],\"title\":\"Chemistry\",\"showlegend\":true}],\"label\":\"Chemistry\",\"method\":\"update\"},{\"args\":[{\"visible\":[false,false,true,false,false,false,false,false],\"title\":\"Computer science\",\"showlegend\":true}],\"label\":\"Computer science\",\"method\":\"update\"},{\"args\":[{\"visible\":[false,false,false,true,false,false,false,false],\"title\":\"Economics\",\"showlegend\":true}],\"label\":\"Economics\",\"method\":\"update\"},{\"args\":[{\"visible\":[false,false,false,false,true,false,false,false],\"title\":\"History\",\"showlegend\":true}],\"label\":\"History\",\"method\":\"update\"},{\"args\":[{\"visible\":[false,false,false,false,false,true,false,false],\"title\":\"Philosophy\",\"showlegend\":true}],\"label\":\"Philosophy\",\"method\":\"update\"},{\"args\":[{\"visible\":[false,false,false,false,false,false,true,false],\"title\":\"Physics\",\"showlegend\":true}],\"label\":\"Physics\",\"method\":\"update\"},{\"args\":[{\"visible\":[false,false,false,false,false,false,false,true],\"title\":\"Sociology\",\"showlegend\":true}],\"label\":\"Sociology\",\"method\":\"update\"}]}],\"title\":{\"text\":\"Lower GPA Admit Limit of Most Common Majors by Campus\"},\"height\":800},                        {\"responsive\": true}                    ).then(function(){\n",
       "                            \n",
       "var gd = document.getElementById('1b726e86-bad0-4ca9-9500-8ec423ad228d');\n",
       "var x = new MutationObserver(function (mutations, observer) {{\n",
       "        var display = window.getComputedStyle(gd).display;\n",
       "        if (!display || display === 'none') {{\n",
       "            console.log([gd, 'removed!']);\n",
       "            Plotly.purge(gd);\n",
       "            observer.disconnect();\n",
       "        }}\n",
       "}});\n",
       "\n",
       "// Listen for the removal of the full notebook cells\n",
       "var notebookContainer = gd.closest('#notebook-container');\n",
       "if (notebookContainer) {{\n",
       "    x.observe(notebookContainer, {childList: true});\n",
       "}}\n",
       "\n",
       "// Listen for the clearing of the current output cell\n",
       "var outputEl = gd.closest('.output');\n",
       "if (outputEl) {{\n",
       "    x.observe(outputEl, {childList: true});\n",
       "}}\n",
       "\n",
       "                        })                };                });            </script>        </div>"
      ]
     },
     "metadata": {},
     "output_type": "display_data"
    }
   ],
   "source": [
    "# Interactive plot of lower GPA admit limit per major \n",
    "# with UC's sorted by acceptance rate from low to high\n",
    "drop_down_plot(pivot, title=\"Lower GPA Admit Limit of Most Common Majors by Campus\") "
   ]
  },
  {
   "cell_type": "code",
   "execution_count": 241,
   "id": "4ef9b91b",
   "metadata": {},
   "outputs": [
    {
     "data": {
      "application/vnd.plotly.v1+json": {
       "config": {
        "plotlyServerURL": "https://plot.ly"
       },
       "data": [
        {
         "name": "Anthropology",
         "type": "scatter",
         "x": [
          "UCLA",
          "UCB",
          "UCI",
          "UCSB",
          "UCD",
          "UCSD",
          "UCSC",
          "UCM",
          "UCR"
         ],
         "y": [
          0.3663594470046083,
          0.1456953642384106,
          0.4178082191780822,
          0.5063291139240508,
          0.711864406779661,
          null,
          0.793846153846154,
          0.7945205479452054,
          0.8046511627906978
         ]
        },
        {
         "name": "Chemistry",
         "type": "scatter",
         "x": [
          "UCLA",
          "UCB",
          "UCI",
          "UCSB",
          "UCD",
          "UCSD",
          "UCSC",
          "UCM",
          "UCR"
         ],
         "y": [
          0.2307692307692308,
          0.1954887218045113,
          0.408675799086758,
          0.5612472160356348,
          0.7702702702702704,
          0.5808823529411766,
          0.4540540540540542,
          null,
          0.592964824120603
         ]
        },
        {
         "name": "Computer science",
         "type": "scatter",
         "x": [
          "UCLA",
          "UCB",
          "UCI",
          "UCSB",
          "UCD",
          "UCSD",
          "UCSC",
          "UCM",
          "UCR"
         ],
         "y": [
          0.0235353029544316,
          0.0396694214876033,
          0.1118363794604003,
          0.0966356478167502,
          0.2846364883401921,
          0.1588176352705411,
          0.3166770768269832,
          null,
          0.3798507462686567
         ]
        },
        {
         "name": "Economics",
         "type": "scatter",
         "x": [
          "UCLA",
          "UCB",
          "UCI",
          "UCSB",
          "UCD",
          "UCSD",
          "UCSC",
          "UCM",
          "UCR"
         ],
         "y": [
          null,
          0.2213386348575215,
          0.3250478011472276,
          0.5783289817232375,
          0.5942338494394022,
          0.5818000994530086,
          0.7415254237288136,
          0.7391304347826086,
          0.8102189781021898
         ]
        },
        {
         "name": "History",
         "type": "scatter",
         "x": [
          "UCLA",
          "UCB",
          "UCI",
          "UCSB",
          "UCD",
          "UCSD",
          "UCSC",
          "UCM",
          "UCR"
         ],
         "y": [
          null,
          0.188622754491018,
          0.6856287425149702,
          0.5153846153846154,
          0.7286821705426356,
          0.7277936962750716,
          0.8225255972696246,
          0.7857142857142858,
          0.81640625
         ]
        },
        {
         "name": "Philosophy",
         "type": "scatter",
         "x": [
          "UCLA",
          "UCB",
          "UCI",
          "UCSB",
          "UCD",
          "UCSD",
          "UCSC",
          "UCM",
          "UCR"
         ],
         "y": [
          0.4065934065934066,
          0.51044776119403,
          0.7137254901960784,
          0.4626334519572954,
          0.6153846153846154,
          0.7154150197628458,
          0.8128342245989306,
          null,
          0.8478260869565218
         ]
        },
        {
         "name": "Physics",
         "type": "scatter",
         "x": [
          "UCLA",
          "UCB",
          "UCI",
          "UCSB",
          "UCD",
          "UCSD",
          "UCSC",
          "UCM",
          "UCR"
         ],
         "y": [
          0.3670212765957447,
          0.3989071038251366,
          0.3517241379310345,
          0.6302521008403362,
          0.5384615384615384,
          0.5555555555555556,
          0.7093023255813954,
          null,
          0.6311475409836066
         ]
        },
        {
         "name": "Sociology",
         "type": "scatter",
         "x": [
          "UCLA",
          "UCB",
          "UCI",
          "UCSB",
          "UCD",
          "UCSD",
          "UCSC",
          "UCM",
          "UCR"
         ],
         "y": [
          null,
          0.1776094276094276,
          0.4282029234737747,
          0.5391672547635852,
          0.6865671641791046,
          0.6251497005988024,
          0.667989417989418,
          0.7311827956989247,
          0.817017383348582
         ]
        }
       ],
       "layout": {
        "height": 800,
        "template": {
         "data": {
          "bar": [
           {
            "error_x": {
             "color": "#2a3f5f"
            },
            "error_y": {
             "color": "#2a3f5f"
            },
            "marker": {
             "line": {
              "color": "#E5ECF6",
              "width": 0.5
             },
             "pattern": {
              "fillmode": "overlay",
              "size": 10,
              "solidity": 0.2
             }
            },
            "type": "bar"
           }
          ],
          "barpolar": [
           {
            "marker": {
             "line": {
              "color": "#E5ECF6",
              "width": 0.5
             },
             "pattern": {
              "fillmode": "overlay",
              "size": 10,
              "solidity": 0.2
             }
            },
            "type": "barpolar"
           }
          ],
          "carpet": [
           {
            "aaxis": {
             "endlinecolor": "#2a3f5f",
             "gridcolor": "white",
             "linecolor": "white",
             "minorgridcolor": "white",
             "startlinecolor": "#2a3f5f"
            },
            "baxis": {
             "endlinecolor": "#2a3f5f",
             "gridcolor": "white",
             "linecolor": "white",
             "minorgridcolor": "white",
             "startlinecolor": "#2a3f5f"
            },
            "type": "carpet"
           }
          ],
          "choropleth": [
           {
            "colorbar": {
             "outlinewidth": 0,
             "ticks": ""
            },
            "type": "choropleth"
           }
          ],
          "contour": [
           {
            "colorbar": {
             "outlinewidth": 0,
             "ticks": ""
            },
            "colorscale": [
             [
              0,
              "#0d0887"
             ],
             [
              0.1111111111111111,
              "#46039f"
             ],
             [
              0.2222222222222222,
              "#7201a8"
             ],
             [
              0.3333333333333333,
              "#9c179e"
             ],
             [
              0.4444444444444444,
              "#bd3786"
             ],
             [
              0.5555555555555556,
              "#d8576b"
             ],
             [
              0.6666666666666666,
              "#ed7953"
             ],
             [
              0.7777777777777778,
              "#fb9f3a"
             ],
             [
              0.8888888888888888,
              "#fdca26"
             ],
             [
              1,
              "#f0f921"
             ]
            ],
            "type": "contour"
           }
          ],
          "contourcarpet": [
           {
            "colorbar": {
             "outlinewidth": 0,
             "ticks": ""
            },
            "type": "contourcarpet"
           }
          ],
          "heatmap": [
           {
            "colorbar": {
             "outlinewidth": 0,
             "ticks": ""
            },
            "colorscale": [
             [
              0,
              "#0d0887"
             ],
             [
              0.1111111111111111,
              "#46039f"
             ],
             [
              0.2222222222222222,
              "#7201a8"
             ],
             [
              0.3333333333333333,
              "#9c179e"
             ],
             [
              0.4444444444444444,
              "#bd3786"
             ],
             [
              0.5555555555555556,
              "#d8576b"
             ],
             [
              0.6666666666666666,
              "#ed7953"
             ],
             [
              0.7777777777777778,
              "#fb9f3a"
             ],
             [
              0.8888888888888888,
              "#fdca26"
             ],
             [
              1,
              "#f0f921"
             ]
            ],
            "type": "heatmap"
           }
          ],
          "heatmapgl": [
           {
            "colorbar": {
             "outlinewidth": 0,
             "ticks": ""
            },
            "colorscale": [
             [
              0,
              "#0d0887"
             ],
             [
              0.1111111111111111,
              "#46039f"
             ],
             [
              0.2222222222222222,
              "#7201a8"
             ],
             [
              0.3333333333333333,
              "#9c179e"
             ],
             [
              0.4444444444444444,
              "#bd3786"
             ],
             [
              0.5555555555555556,
              "#d8576b"
             ],
             [
              0.6666666666666666,
              "#ed7953"
             ],
             [
              0.7777777777777778,
              "#fb9f3a"
             ],
             [
              0.8888888888888888,
              "#fdca26"
             ],
             [
              1,
              "#f0f921"
             ]
            ],
            "type": "heatmapgl"
           }
          ],
          "histogram": [
           {
            "marker": {
             "pattern": {
              "fillmode": "overlay",
              "size": 10,
              "solidity": 0.2
             }
            },
            "type": "histogram"
           }
          ],
          "histogram2d": [
           {
            "colorbar": {
             "outlinewidth": 0,
             "ticks": ""
            },
            "colorscale": [
             [
              0,
              "#0d0887"
             ],
             [
              0.1111111111111111,
              "#46039f"
             ],
             [
              0.2222222222222222,
              "#7201a8"
             ],
             [
              0.3333333333333333,
              "#9c179e"
             ],
             [
              0.4444444444444444,
              "#bd3786"
             ],
             [
              0.5555555555555556,
              "#d8576b"
             ],
             [
              0.6666666666666666,
              "#ed7953"
             ],
             [
              0.7777777777777778,
              "#fb9f3a"
             ],
             [
              0.8888888888888888,
              "#fdca26"
             ],
             [
              1,
              "#f0f921"
             ]
            ],
            "type": "histogram2d"
           }
          ],
          "histogram2dcontour": [
           {
            "colorbar": {
             "outlinewidth": 0,
             "ticks": ""
            },
            "colorscale": [
             [
              0,
              "#0d0887"
             ],
             [
              0.1111111111111111,
              "#46039f"
             ],
             [
              0.2222222222222222,
              "#7201a8"
             ],
             [
              0.3333333333333333,
              "#9c179e"
             ],
             [
              0.4444444444444444,
              "#bd3786"
             ],
             [
              0.5555555555555556,
              "#d8576b"
             ],
             [
              0.6666666666666666,
              "#ed7953"
             ],
             [
              0.7777777777777778,
              "#fb9f3a"
             ],
             [
              0.8888888888888888,
              "#fdca26"
             ],
             [
              1,
              "#f0f921"
             ]
            ],
            "type": "histogram2dcontour"
           }
          ],
          "mesh3d": [
           {
            "colorbar": {
             "outlinewidth": 0,
             "ticks": ""
            },
            "type": "mesh3d"
           }
          ],
          "parcoords": [
           {
            "line": {
             "colorbar": {
              "outlinewidth": 0,
              "ticks": ""
             }
            },
            "type": "parcoords"
           }
          ],
          "pie": [
           {
            "automargin": true,
            "type": "pie"
           }
          ],
          "scatter": [
           {
            "fillpattern": {
             "fillmode": "overlay",
             "size": 10,
             "solidity": 0.2
            },
            "type": "scatter"
           }
          ],
          "scatter3d": [
           {
            "line": {
             "colorbar": {
              "outlinewidth": 0,
              "ticks": ""
             }
            },
            "marker": {
             "colorbar": {
              "outlinewidth": 0,
              "ticks": ""
             }
            },
            "type": "scatter3d"
           }
          ],
          "scattercarpet": [
           {
            "marker": {
             "colorbar": {
              "outlinewidth": 0,
              "ticks": ""
             }
            },
            "type": "scattercarpet"
           }
          ],
          "scattergeo": [
           {
            "marker": {
             "colorbar": {
              "outlinewidth": 0,
              "ticks": ""
             }
            },
            "type": "scattergeo"
           }
          ],
          "scattergl": [
           {
            "marker": {
             "colorbar": {
              "outlinewidth": 0,
              "ticks": ""
             }
            },
            "type": "scattergl"
           }
          ],
          "scattermapbox": [
           {
            "marker": {
             "colorbar": {
              "outlinewidth": 0,
              "ticks": ""
             }
            },
            "type": "scattermapbox"
           }
          ],
          "scatterpolar": [
           {
            "marker": {
             "colorbar": {
              "outlinewidth": 0,
              "ticks": ""
             }
            },
            "type": "scatterpolar"
           }
          ],
          "scatterpolargl": [
           {
            "marker": {
             "colorbar": {
              "outlinewidth": 0,
              "ticks": ""
             }
            },
            "type": "scatterpolargl"
           }
          ],
          "scatterternary": [
           {
            "marker": {
             "colorbar": {
              "outlinewidth": 0,
              "ticks": ""
             }
            },
            "type": "scatterternary"
           }
          ],
          "surface": [
           {
            "colorbar": {
             "outlinewidth": 0,
             "ticks": ""
            },
            "colorscale": [
             [
              0,
              "#0d0887"
             ],
             [
              0.1111111111111111,
              "#46039f"
             ],
             [
              0.2222222222222222,
              "#7201a8"
             ],
             [
              0.3333333333333333,
              "#9c179e"
             ],
             [
              0.4444444444444444,
              "#bd3786"
             ],
             [
              0.5555555555555556,
              "#d8576b"
             ],
             [
              0.6666666666666666,
              "#ed7953"
             ],
             [
              0.7777777777777778,
              "#fb9f3a"
             ],
             [
              0.8888888888888888,
              "#fdca26"
             ],
             [
              1,
              "#f0f921"
             ]
            ],
            "type": "surface"
           }
          ],
          "table": [
           {
            "cells": {
             "fill": {
              "color": "#EBF0F8"
             },
             "line": {
              "color": "white"
             }
            },
            "header": {
             "fill": {
              "color": "#C8D4E3"
             },
             "line": {
              "color": "white"
             }
            },
            "type": "table"
           }
          ]
         },
         "layout": {
          "annotationdefaults": {
           "arrowcolor": "#2a3f5f",
           "arrowhead": 0,
           "arrowwidth": 1
          },
          "autotypenumbers": "strict",
          "coloraxis": {
           "colorbar": {
            "outlinewidth": 0,
            "ticks": ""
           }
          },
          "colorscale": {
           "diverging": [
            [
             0,
             "#8e0152"
            ],
            [
             0.1,
             "#c51b7d"
            ],
            [
             0.2,
             "#de77ae"
            ],
            [
             0.3,
             "#f1b6da"
            ],
            [
             0.4,
             "#fde0ef"
            ],
            [
             0.5,
             "#f7f7f7"
            ],
            [
             0.6,
             "#e6f5d0"
            ],
            [
             0.7,
             "#b8e186"
            ],
            [
             0.8,
             "#7fbc41"
            ],
            [
             0.9,
             "#4d9221"
            ],
            [
             1,
             "#276419"
            ]
           ],
           "sequential": [
            [
             0,
             "#0d0887"
            ],
            [
             0.1111111111111111,
             "#46039f"
            ],
            [
             0.2222222222222222,
             "#7201a8"
            ],
            [
             0.3333333333333333,
             "#9c179e"
            ],
            [
             0.4444444444444444,
             "#bd3786"
            ],
            [
             0.5555555555555556,
             "#d8576b"
            ],
            [
             0.6666666666666666,
             "#ed7953"
            ],
            [
             0.7777777777777778,
             "#fb9f3a"
            ],
            [
             0.8888888888888888,
             "#fdca26"
            ],
            [
             1,
             "#f0f921"
            ]
           ],
           "sequentialminus": [
            [
             0,
             "#0d0887"
            ],
            [
             0.1111111111111111,
             "#46039f"
            ],
            [
             0.2222222222222222,
             "#7201a8"
            ],
            [
             0.3333333333333333,
             "#9c179e"
            ],
            [
             0.4444444444444444,
             "#bd3786"
            ],
            [
             0.5555555555555556,
             "#d8576b"
            ],
            [
             0.6666666666666666,
             "#ed7953"
            ],
            [
             0.7777777777777778,
             "#fb9f3a"
            ],
            [
             0.8888888888888888,
             "#fdca26"
            ],
            [
             1,
             "#f0f921"
            ]
           ]
          },
          "colorway": [
           "#636efa",
           "#EF553B",
           "#00cc96",
           "#ab63fa",
           "#FFA15A",
           "#19d3f3",
           "#FF6692",
           "#B6E880",
           "#FF97FF",
           "#FECB52"
          ],
          "font": {
           "color": "#2a3f5f"
          },
          "geo": {
           "bgcolor": "white",
           "lakecolor": "white",
           "landcolor": "#E5ECF6",
           "showlakes": true,
           "showland": true,
           "subunitcolor": "white"
          },
          "hoverlabel": {
           "align": "left"
          },
          "hovermode": "closest",
          "mapbox": {
           "style": "light"
          },
          "paper_bgcolor": "white",
          "plot_bgcolor": "#E5ECF6",
          "polar": {
           "angularaxis": {
            "gridcolor": "white",
            "linecolor": "white",
            "ticks": ""
           },
           "bgcolor": "#E5ECF6",
           "radialaxis": {
            "gridcolor": "white",
            "linecolor": "white",
            "ticks": ""
           }
          },
          "scene": {
           "xaxis": {
            "backgroundcolor": "#E5ECF6",
            "gridcolor": "white",
            "gridwidth": 2,
            "linecolor": "white",
            "showbackground": true,
            "ticks": "",
            "zerolinecolor": "white"
           },
           "yaxis": {
            "backgroundcolor": "#E5ECF6",
            "gridcolor": "white",
            "gridwidth": 2,
            "linecolor": "white",
            "showbackground": true,
            "ticks": "",
            "zerolinecolor": "white"
           },
           "zaxis": {
            "backgroundcolor": "#E5ECF6",
            "gridcolor": "white",
            "gridwidth": 2,
            "linecolor": "white",
            "showbackground": true,
            "ticks": "",
            "zerolinecolor": "white"
           }
          },
          "shapedefaults": {
           "line": {
            "color": "#2a3f5f"
           }
          },
          "ternary": {
           "aaxis": {
            "gridcolor": "white",
            "linecolor": "white",
            "ticks": ""
           },
           "baxis": {
            "gridcolor": "white",
            "linecolor": "white",
            "ticks": ""
           },
           "bgcolor": "#E5ECF6",
           "caxis": {
            "gridcolor": "white",
            "linecolor": "white",
            "ticks": ""
           }
          },
          "title": {
           "x": 0.05
          },
          "xaxis": {
           "automargin": true,
           "gridcolor": "white",
           "linecolor": "white",
           "ticks": "",
           "title": {
            "standoff": 15
           },
           "zerolinecolor": "white",
           "zerolinewidth": 2
          },
          "yaxis": {
           "automargin": true,
           "gridcolor": "white",
           "linecolor": "white",
           "ticks": "",
           "title": {
            "standoff": 15
           },
           "zerolinecolor": "white",
           "zerolinewidth": 2
          }
         }
        },
        "title": {
         "text": "Admit Rates Per Campus of Most Common Majors"
        },
        "updatemenus": [
         {
          "active": 0,
          "buttons": [
           {
            "args": [
             {
              "showlegend": true,
              "title": "All",
              "visible": [
               true,
               true,
               true,
               true,
               true,
               true,
               true,
               true
              ]
             }
            ],
            "label": "All",
            "method": "update"
           },
           {
            "args": [
             {
              "showlegend": true,
              "title": "Anthropology",
              "visible": [
               true,
               false,
               false,
               false,
               false,
               false,
               false,
               false
              ]
             }
            ],
            "label": "Anthropology",
            "method": "update"
           },
           {
            "args": [
             {
              "showlegend": true,
              "title": "Chemistry",
              "visible": [
               false,
               true,
               false,
               false,
               false,
               false,
               false,
               false
              ]
             }
            ],
            "label": "Chemistry",
            "method": "update"
           },
           {
            "args": [
             {
              "showlegend": true,
              "title": "Computer science",
              "visible": [
               false,
               false,
               true,
               false,
               false,
               false,
               false,
               false
              ]
             }
            ],
            "label": "Computer science",
            "method": "update"
           },
           {
            "args": [
             {
              "showlegend": true,
              "title": "Economics",
              "visible": [
               false,
               false,
               false,
               true,
               false,
               false,
               false,
               false
              ]
             }
            ],
            "label": "Economics",
            "method": "update"
           },
           {
            "args": [
             {
              "showlegend": true,
              "title": "History",
              "visible": [
               false,
               false,
               false,
               false,
               true,
               false,
               false,
               false
              ]
             }
            ],
            "label": "History",
            "method": "update"
           },
           {
            "args": [
             {
              "showlegend": true,
              "title": "Philosophy",
              "visible": [
               false,
               false,
               false,
               false,
               false,
               true,
               false,
               false
              ]
             }
            ],
            "label": "Philosophy",
            "method": "update"
           },
           {
            "args": [
             {
              "showlegend": true,
              "title": "Physics",
              "visible": [
               false,
               false,
               false,
               false,
               false,
               false,
               true,
               false
              ]
             }
            ],
            "label": "Physics",
            "method": "update"
           },
           {
            "args": [
             {
              "showlegend": true,
              "title": "Sociology",
              "visible": [
               false,
               false,
               false,
               false,
               false,
               false,
               false,
               true
              ]
             }
            ],
            "label": "Sociology",
            "method": "update"
           }
          ]
         }
        ]
       }
      },
      "text/html": [
       "<div>                            <div id=\"3e67398e-3dbe-49a0-a4cc-e9047a1f6fa9\" class=\"plotly-graph-div\" style=\"height:800px; width:100%;\"></div>            <script type=\"text/javascript\">                require([\"plotly\"], function(Plotly) {                    window.PLOTLYENV=window.PLOTLYENV || {};                                    if (document.getElementById(\"3e67398e-3dbe-49a0-a4cc-e9047a1f6fa9\")) {                    Plotly.newPlot(                        \"3e67398e-3dbe-49a0-a4cc-e9047a1f6fa9\",                        [{\"name\":\"Anthropology\",\"x\":[\"UCLA\",\"UCB\",\"UCI\",\"UCSB\",\"UCD\",\"UCSD\",\"UCSC\",\"UCM\",\"UCR\"],\"y\":[0.3663594470046083,0.1456953642384106,0.4178082191780822,0.5063291139240508,0.711864406779661,null,0.793846153846154,0.7945205479452054,0.8046511627906978],\"type\":\"scatter\"},{\"name\":\"Chemistry\",\"x\":[\"UCLA\",\"UCB\",\"UCI\",\"UCSB\",\"UCD\",\"UCSD\",\"UCSC\",\"UCM\",\"UCR\"],\"y\":[0.2307692307692308,0.1954887218045113,0.408675799086758,0.5612472160356348,0.7702702702702704,0.5808823529411766,0.4540540540540542,null,0.592964824120603],\"type\":\"scatter\"},{\"name\":\"Computer science\",\"x\":[\"UCLA\",\"UCB\",\"UCI\",\"UCSB\",\"UCD\",\"UCSD\",\"UCSC\",\"UCM\",\"UCR\"],\"y\":[0.0235353029544316,0.0396694214876033,0.1118363794604003,0.0966356478167502,0.2846364883401921,0.1588176352705411,0.3166770768269832,null,0.3798507462686567],\"type\":\"scatter\"},{\"name\":\"Economics\",\"x\":[\"UCLA\",\"UCB\",\"UCI\",\"UCSB\",\"UCD\",\"UCSD\",\"UCSC\",\"UCM\",\"UCR\"],\"y\":[null,0.2213386348575215,0.3250478011472276,0.5783289817232375,0.5942338494394022,0.5818000994530086,0.7415254237288136,0.7391304347826086,0.8102189781021898],\"type\":\"scatter\"},{\"name\":\"History\",\"x\":[\"UCLA\",\"UCB\",\"UCI\",\"UCSB\",\"UCD\",\"UCSD\",\"UCSC\",\"UCM\",\"UCR\"],\"y\":[null,0.188622754491018,0.6856287425149702,0.5153846153846154,0.7286821705426356,0.7277936962750716,0.8225255972696246,0.7857142857142858,0.81640625],\"type\":\"scatter\"},{\"name\":\"Philosophy\",\"x\":[\"UCLA\",\"UCB\",\"UCI\",\"UCSB\",\"UCD\",\"UCSD\",\"UCSC\",\"UCM\",\"UCR\"],\"y\":[0.4065934065934066,0.51044776119403,0.7137254901960784,0.4626334519572954,0.6153846153846154,0.7154150197628458,0.8128342245989306,null,0.8478260869565218],\"type\":\"scatter\"},{\"name\":\"Physics\",\"x\":[\"UCLA\",\"UCB\",\"UCI\",\"UCSB\",\"UCD\",\"UCSD\",\"UCSC\",\"UCM\",\"UCR\"],\"y\":[0.3670212765957447,0.3989071038251366,0.3517241379310345,0.6302521008403362,0.5384615384615384,0.5555555555555556,0.7093023255813954,null,0.6311475409836066],\"type\":\"scatter\"},{\"name\":\"Sociology\",\"x\":[\"UCLA\",\"UCB\",\"UCI\",\"UCSB\",\"UCD\",\"UCSD\",\"UCSC\",\"UCM\",\"UCR\"],\"y\":[null,0.1776094276094276,0.4282029234737747,0.5391672547635852,0.6865671641791046,0.6251497005988024,0.667989417989418,0.7311827956989247,0.817017383348582],\"type\":\"scatter\"}],                        {\"template\":{\"data\":{\"histogram2dcontour\":[{\"type\":\"histogram2dcontour\",\"colorbar\":{\"outlinewidth\":0,\"ticks\":\"\"},\"colorscale\":[[0.0,\"#0d0887\"],[0.1111111111111111,\"#46039f\"],[0.2222222222222222,\"#7201a8\"],[0.3333333333333333,\"#9c179e\"],[0.4444444444444444,\"#bd3786\"],[0.5555555555555556,\"#d8576b\"],[0.6666666666666666,\"#ed7953\"],[0.7777777777777778,\"#fb9f3a\"],[0.8888888888888888,\"#fdca26\"],[1.0,\"#f0f921\"]]}],\"choropleth\":[{\"type\":\"choropleth\",\"colorbar\":{\"outlinewidth\":0,\"ticks\":\"\"}}],\"histogram2d\":[{\"type\":\"histogram2d\",\"colorbar\":{\"outlinewidth\":0,\"ticks\":\"\"},\"colorscale\":[[0.0,\"#0d0887\"],[0.1111111111111111,\"#46039f\"],[0.2222222222222222,\"#7201a8\"],[0.3333333333333333,\"#9c179e\"],[0.4444444444444444,\"#bd3786\"],[0.5555555555555556,\"#d8576b\"],[0.6666666666666666,\"#ed7953\"],[0.7777777777777778,\"#fb9f3a\"],[0.8888888888888888,\"#fdca26\"],[1.0,\"#f0f921\"]]}],\"heatmap\":[{\"type\":\"heatmap\",\"colorbar\":{\"outlinewidth\":0,\"ticks\":\"\"},\"colorscale\":[[0.0,\"#0d0887\"],[0.1111111111111111,\"#46039f\"],[0.2222222222222222,\"#7201a8\"],[0.3333333333333333,\"#9c179e\"],[0.4444444444444444,\"#bd3786\"],[0.5555555555555556,\"#d8576b\"],[0.6666666666666666,\"#ed7953\"],[0.7777777777777778,\"#fb9f3a\"],[0.8888888888888888,\"#fdca26\"],[1.0,\"#f0f921\"]]}],\"heatmapgl\":[{\"type\":\"heatmapgl\",\"colorbar\":{\"outlinewidth\":0,\"ticks\":\"\"},\"colorscale\":[[0.0,\"#0d0887\"],[0.1111111111111111,\"#46039f\"],[0.2222222222222222,\"#7201a8\"],[0.3333333333333333,\"#9c179e\"],[0.4444444444444444,\"#bd3786\"],[0.5555555555555556,\"#d8576b\"],[0.6666666666666666,\"#ed7953\"],[0.7777777777777778,\"#fb9f3a\"],[0.8888888888888888,\"#fdca26\"],[1.0,\"#f0f921\"]]}],\"contourcarpet\":[{\"type\":\"contourcarpet\",\"colorbar\":{\"outlinewidth\":0,\"ticks\":\"\"}}],\"contour\":[{\"type\":\"contour\",\"colorbar\":{\"outlinewidth\":0,\"ticks\":\"\"},\"colorscale\":[[0.0,\"#0d0887\"],[0.1111111111111111,\"#46039f\"],[0.2222222222222222,\"#7201a8\"],[0.3333333333333333,\"#9c179e\"],[0.4444444444444444,\"#bd3786\"],[0.5555555555555556,\"#d8576b\"],[0.6666666666666666,\"#ed7953\"],[0.7777777777777778,\"#fb9f3a\"],[0.8888888888888888,\"#fdca26\"],[1.0,\"#f0f921\"]]}],\"surface\":[{\"type\":\"surface\",\"colorbar\":{\"outlinewidth\":0,\"ticks\":\"\"},\"colorscale\":[[0.0,\"#0d0887\"],[0.1111111111111111,\"#46039f\"],[0.2222222222222222,\"#7201a8\"],[0.3333333333333333,\"#9c179e\"],[0.4444444444444444,\"#bd3786\"],[0.5555555555555556,\"#d8576b\"],[0.6666666666666666,\"#ed7953\"],[0.7777777777777778,\"#fb9f3a\"],[0.8888888888888888,\"#fdca26\"],[1.0,\"#f0f921\"]]}],\"mesh3d\":[{\"type\":\"mesh3d\",\"colorbar\":{\"outlinewidth\":0,\"ticks\":\"\"}}],\"scatter\":[{\"fillpattern\":{\"fillmode\":\"overlay\",\"size\":10,\"solidity\":0.2},\"type\":\"scatter\"}],\"parcoords\":[{\"type\":\"parcoords\",\"line\":{\"colorbar\":{\"outlinewidth\":0,\"ticks\":\"\"}}}],\"scatterpolargl\":[{\"type\":\"scatterpolargl\",\"marker\":{\"colorbar\":{\"outlinewidth\":0,\"ticks\":\"\"}}}],\"bar\":[{\"error_x\":{\"color\":\"#2a3f5f\"},\"error_y\":{\"color\":\"#2a3f5f\"},\"marker\":{\"line\":{\"color\":\"#E5ECF6\",\"width\":0.5},\"pattern\":{\"fillmode\":\"overlay\",\"size\":10,\"solidity\":0.2}},\"type\":\"bar\"}],\"scattergeo\":[{\"type\":\"scattergeo\",\"marker\":{\"colorbar\":{\"outlinewidth\":0,\"ticks\":\"\"}}}],\"scatterpolar\":[{\"type\":\"scatterpolar\",\"marker\":{\"colorbar\":{\"outlinewidth\":0,\"ticks\":\"\"}}}],\"histogram\":[{\"marker\":{\"pattern\":{\"fillmode\":\"overlay\",\"size\":10,\"solidity\":0.2}},\"type\":\"histogram\"}],\"scattergl\":[{\"type\":\"scattergl\",\"marker\":{\"colorbar\":{\"outlinewidth\":0,\"ticks\":\"\"}}}],\"scatter3d\":[{\"type\":\"scatter3d\",\"line\":{\"colorbar\":{\"outlinewidth\":0,\"ticks\":\"\"}},\"marker\":{\"colorbar\":{\"outlinewidth\":0,\"ticks\":\"\"}}}],\"scattermapbox\":[{\"type\":\"scattermapbox\",\"marker\":{\"colorbar\":{\"outlinewidth\":0,\"ticks\":\"\"}}}],\"scatterternary\":[{\"type\":\"scatterternary\",\"marker\":{\"colorbar\":{\"outlinewidth\":0,\"ticks\":\"\"}}}],\"scattercarpet\":[{\"type\":\"scattercarpet\",\"marker\":{\"colorbar\":{\"outlinewidth\":0,\"ticks\":\"\"}}}],\"carpet\":[{\"aaxis\":{\"endlinecolor\":\"#2a3f5f\",\"gridcolor\":\"white\",\"linecolor\":\"white\",\"minorgridcolor\":\"white\",\"startlinecolor\":\"#2a3f5f\"},\"baxis\":{\"endlinecolor\":\"#2a3f5f\",\"gridcolor\":\"white\",\"linecolor\":\"white\",\"minorgridcolor\":\"white\",\"startlinecolor\":\"#2a3f5f\"},\"type\":\"carpet\"}],\"table\":[{\"cells\":{\"fill\":{\"color\":\"#EBF0F8\"},\"line\":{\"color\":\"white\"}},\"header\":{\"fill\":{\"color\":\"#C8D4E3\"},\"line\":{\"color\":\"white\"}},\"type\":\"table\"}],\"barpolar\":[{\"marker\":{\"line\":{\"color\":\"#E5ECF6\",\"width\":0.5},\"pattern\":{\"fillmode\":\"overlay\",\"size\":10,\"solidity\":0.2}},\"type\":\"barpolar\"}],\"pie\":[{\"automargin\":true,\"type\":\"pie\"}]},\"layout\":{\"autotypenumbers\":\"strict\",\"colorway\":[\"#636efa\",\"#EF553B\",\"#00cc96\",\"#ab63fa\",\"#FFA15A\",\"#19d3f3\",\"#FF6692\",\"#B6E880\",\"#FF97FF\",\"#FECB52\"],\"font\":{\"color\":\"#2a3f5f\"},\"hovermode\":\"closest\",\"hoverlabel\":{\"align\":\"left\"},\"paper_bgcolor\":\"white\",\"plot_bgcolor\":\"#E5ECF6\",\"polar\":{\"bgcolor\":\"#E5ECF6\",\"angularaxis\":{\"gridcolor\":\"white\",\"linecolor\":\"white\",\"ticks\":\"\"},\"radialaxis\":{\"gridcolor\":\"white\",\"linecolor\":\"white\",\"ticks\":\"\"}},\"ternary\":{\"bgcolor\":\"#E5ECF6\",\"aaxis\":{\"gridcolor\":\"white\",\"linecolor\":\"white\",\"ticks\":\"\"},\"baxis\":{\"gridcolor\":\"white\",\"linecolor\":\"white\",\"ticks\":\"\"},\"caxis\":{\"gridcolor\":\"white\",\"linecolor\":\"white\",\"ticks\":\"\"}},\"coloraxis\":{\"colorbar\":{\"outlinewidth\":0,\"ticks\":\"\"}},\"colorscale\":{\"sequential\":[[0.0,\"#0d0887\"],[0.1111111111111111,\"#46039f\"],[0.2222222222222222,\"#7201a8\"],[0.3333333333333333,\"#9c179e\"],[0.4444444444444444,\"#bd3786\"],[0.5555555555555556,\"#d8576b\"],[0.6666666666666666,\"#ed7953\"],[0.7777777777777778,\"#fb9f3a\"],[0.8888888888888888,\"#fdca26\"],[1.0,\"#f0f921\"]],\"sequentialminus\":[[0.0,\"#0d0887\"],[0.1111111111111111,\"#46039f\"],[0.2222222222222222,\"#7201a8\"],[0.3333333333333333,\"#9c179e\"],[0.4444444444444444,\"#bd3786\"],[0.5555555555555556,\"#d8576b\"],[0.6666666666666666,\"#ed7953\"],[0.7777777777777778,\"#fb9f3a\"],[0.8888888888888888,\"#fdca26\"],[1.0,\"#f0f921\"]],\"diverging\":[[0,\"#8e0152\"],[0.1,\"#c51b7d\"],[0.2,\"#de77ae\"],[0.3,\"#f1b6da\"],[0.4,\"#fde0ef\"],[0.5,\"#f7f7f7\"],[0.6,\"#e6f5d0\"],[0.7,\"#b8e186\"],[0.8,\"#7fbc41\"],[0.9,\"#4d9221\"],[1,\"#276419\"]]},\"xaxis\":{\"gridcolor\":\"white\",\"linecolor\":\"white\",\"ticks\":\"\",\"title\":{\"standoff\":15},\"zerolinecolor\":\"white\",\"automargin\":true,\"zerolinewidth\":2},\"yaxis\":{\"gridcolor\":\"white\",\"linecolor\":\"white\",\"ticks\":\"\",\"title\":{\"standoff\":15},\"zerolinecolor\":\"white\",\"automargin\":true,\"zerolinewidth\":2},\"scene\":{\"xaxis\":{\"backgroundcolor\":\"#E5ECF6\",\"gridcolor\":\"white\",\"linecolor\":\"white\",\"showbackground\":true,\"ticks\":\"\",\"zerolinecolor\":\"white\",\"gridwidth\":2},\"yaxis\":{\"backgroundcolor\":\"#E5ECF6\",\"gridcolor\":\"white\",\"linecolor\":\"white\",\"showbackground\":true,\"ticks\":\"\",\"zerolinecolor\":\"white\",\"gridwidth\":2},\"zaxis\":{\"backgroundcolor\":\"#E5ECF6\",\"gridcolor\":\"white\",\"linecolor\":\"white\",\"showbackground\":true,\"ticks\":\"\",\"zerolinecolor\":\"white\",\"gridwidth\":2}},\"shapedefaults\":{\"line\":{\"color\":\"#2a3f5f\"}},\"annotationdefaults\":{\"arrowcolor\":\"#2a3f5f\",\"arrowhead\":0,\"arrowwidth\":1},\"geo\":{\"bgcolor\":\"white\",\"landcolor\":\"#E5ECF6\",\"subunitcolor\":\"white\",\"showland\":true,\"showlakes\":true,\"lakecolor\":\"white\"},\"title\":{\"x\":0.05},\"mapbox\":{\"style\":\"light\"}}},\"updatemenus\":[{\"active\":0,\"buttons\":[{\"args\":[{\"visible\":[true,true,true,true,true,true,true,true],\"title\":\"All\",\"showlegend\":true}],\"label\":\"All\",\"method\":\"update\"},{\"args\":[{\"visible\":[true,false,false,false,false,false,false,false],\"title\":\"Anthropology\",\"showlegend\":true}],\"label\":\"Anthropology\",\"method\":\"update\"},{\"args\":[{\"visible\":[false,true,false,false,false,false,false,false],\"title\":\"Chemistry\",\"showlegend\":true}],\"label\":\"Chemistry\",\"method\":\"update\"},{\"args\":[{\"visible\":[false,false,true,false,false,false,false,false],\"title\":\"Computer science\",\"showlegend\":true}],\"label\":\"Computer science\",\"method\":\"update\"},{\"args\":[{\"visible\":[false,false,false,true,false,false,false,false],\"title\":\"Economics\",\"showlegend\":true}],\"label\":\"Economics\",\"method\":\"update\"},{\"args\":[{\"visible\":[false,false,false,false,true,false,false,false],\"title\":\"History\",\"showlegend\":true}],\"label\":\"History\",\"method\":\"update\"},{\"args\":[{\"visible\":[false,false,false,false,false,true,false,false],\"title\":\"Philosophy\",\"showlegend\":true}],\"label\":\"Philosophy\",\"method\":\"update\"},{\"args\":[{\"visible\":[false,false,false,false,false,false,true,false],\"title\":\"Physics\",\"showlegend\":true}],\"label\":\"Physics\",\"method\":\"update\"},{\"args\":[{\"visible\":[false,false,false,false,false,false,false,true],\"title\":\"Sociology\",\"showlegend\":true}],\"label\":\"Sociology\",\"method\":\"update\"}]}],\"title\":{\"text\":\"Admit Rates Per Campus of Most Common Majors\"},\"height\":800},                        {\"responsive\": true}                    ).then(function(){\n",
       "                            \n",
       "var gd = document.getElementById('3e67398e-3dbe-49a0-a4cc-e9047a1f6fa9');\n",
       "var x = new MutationObserver(function (mutations, observer) {{\n",
       "        var display = window.getComputedStyle(gd).display;\n",
       "        if (!display || display === 'none') {{\n",
       "            console.log([gd, 'removed!']);\n",
       "            Plotly.purge(gd);\n",
       "            observer.disconnect();\n",
       "        }}\n",
       "}});\n",
       "\n",
       "// Listen for the removal of the full notebook cells\n",
       "var notebookContainer = gd.closest('#notebook-container');\n",
       "if (notebookContainer) {{\n",
       "    x.observe(notebookContainer, {childList: true});\n",
       "}}\n",
       "\n",
       "// Listen for the clearing of the current output cell\n",
       "var outputEl = gd.closest('.output');\n",
       "if (outputEl) {{\n",
       "    x.observe(outputEl, {childList: true});\n",
       "}}\n",
       "\n",
       "                        })                };                });            </script>        </div>"
      ]
     },
     "metadata": {},
     "output_type": "display_data"
    }
   ],
   "source": [
    "# Interactive plot of admit rate by major with \n",
    "# UC's sorted by acceptance rate from low to high\n",
    "drop_down_plot(pivot2, title=\"Admit Rates Per Campus of Most Common Majors\") "
   ]
  },
  {
   "cell_type": "code",
   "execution_count": null,
   "id": "ba2d1875",
   "metadata": {},
   "outputs": [],
   "source": []
  }
 ],
 "metadata": {
  "kernelspec": {
   "display_name": "Python 3 (ipykernel)",
   "language": "python",
   "name": "python3"
  },
  "language_info": {
   "codemirror_mode": {
    "name": "ipython",
    "version": 3
   },
   "file_extension": ".py",
   "mimetype": "text/x-python",
   "name": "python",
   "nbconvert_exporter": "python",
   "pygments_lexer": "ipython3",
   "version": "3.9.13"
  }
 },
 "nbformat": 4,
 "nbformat_minor": 5
}
